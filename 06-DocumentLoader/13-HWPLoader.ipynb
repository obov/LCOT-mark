{
  "cells": [
    {
      "cell_type": "markdown",
      "id": "635d8ebb",
      "metadata": {},
      "source": [
        "# HWP (Hangeul) Loader\n",
        "\n",
        "- Author: [Sunyoung Park (architectyou)](https://github.com/Architectyou)\n",
        "- Design: \n",
        "- Peer Review : [Suhyun Lee](https://github.com/suhyun0115), [Kane](https://github.com/HarryKane11)\n",
        "- This is a part of [LangChain Open Tutorial](https://github.com/LangChain-OpenTutorial/LangChain-OpenTutorial)\n",
        "\n",
        "[![Open in Colab](https://colab.research.google.com/assets/colab-badge.svg)](https://colab.research.google.com/github/LangChain-OpenTutorial/LangChain-OpenTutorial/blob/main/06-DocumentLoader/03-HWP-loader.ipynb) [![Open in GitHub](https://img.shields.io/badge/Open%20in%20GitHub-181717?style=flat-square&logo=github&logoColor=white)](https://github.com/LangChain-OpenTutorial/LangChain-OpenTutorial/blob/main/06-DocumentLoader/03-HWP-loader.ipynb)\n",
        "\n",
        "## Overview\n",
        "\n",
        "HWP is Hangeul Word Processor developed by **Hancom**, and it is Korea's representative office software.\n",
        "\n",
        "It uses the `.hwp` file extension and is widely used in Businesses, Schools, and Government Institutions, and more.\n",
        "\n",
        "Therefore, if you're a developer in South Korea, you've likely had (or will have) experience dealing with `.hwp` documents.\n",
        "\n",
        "Unfortunately, it's not yet integrated with LangChain, so we'll need to use a custom-implemented `HWPLoader` with `langchain-teddynote` and `langchain-opentutorial`.\n",
        "\n",
        "\n",
        "In this tutorial, we'll implement a `HWPLoader` that can load `.hwp` files and extract text from them.\n",
        "\n",
        "\n",
        "### Table of Contents\n",
        "\n",
        "- [Overview](#overview)\n",
        "- [Environement Setup](#environment-setup)\n",
        "- [HWP Loader Instantiate](#hwp-loader-instantiate)\n",
        "- [Loader](#loader)\n",
        "\n",
        "### References\n",
        "\n",
        "- [Hancom Developer Forum](https://developer.hancom.com/)"
      ]
    },
    {
      "cell_type": "markdown",
      "id": "c6c7aba4",
      "metadata": {},
      "source": [
        "## Environment Setup\n",
        "\n",
        "Set up the environment. You may refer to [Environment Setup](https://wikidocs.net/257836) for more details.\n",
        "\n",
        "**[Note]**\n",
        "- `langchain-opentutorial` is a package that provides a set of easy-to-use environment setup, useful functions and utilities for tutorials. \n",
        "- You can checkout the [`langchain-opentutorial`](https://github.com/LangChain-OpenTutorial/langchain-opentutorial-pypi) for more details."
      ]
    },
    {
      "cell_type": "code",
      "execution_count": 1,
      "id": "21943adb",
      "metadata": {},
      "outputs": [],
      "source": [
        "%%capture --no-stderr\n",
        "!pip install langchain-opentutorial langchain-teddynote"
      ]
    },
    {
      "cell_type": "code",
      "execution_count": 2,
      "id": "f25ec196",
      "metadata": {},
      "outputs": [
        {
          "name": "stderr",
          "output_type": "stream",
          "text": [
            "\n",
            "\u001b[1m[\u001b[0m\u001b[34;49mnotice\u001b[0m\u001b[1;39;49m]\u001b[0m\u001b[39;49m A new release of pip is available: \u001b[0m\u001b[31;49m23.3.2\u001b[0m\u001b[39;49m -> \u001b[0m\u001b[32;49m24.3.1\u001b[0m\n",
            "\u001b[1m[\u001b[0m\u001b[34;49mnotice\u001b[0m\u001b[1;39;49m]\u001b[0m\u001b[39;49m To update, run: \u001b[0m\u001b[32;49mpip install --upgrade pip\u001b[0m\n"
          ]
        }
      ],
      "source": [
        "# Install required packages\n",
        "from langchain_opentutorial import package\n",
        "\n",
        "package.install(\n",
        "    [\n",
        "        \"langchain-teddynote\",\n",
        "    ],\n",
        "    verbose=False,\n",
        "    upgrade=False,\n",
        ")"
      ]
    },
    {
      "cell_type": "markdown",
      "id": "aa00c3f4",
      "metadata": {},
      "source": [
        "## HWP Loader Instantiate\n",
        "\n",
        "You can instantiate HWP Loader with `HWPLoader` class."
      ]
    },
    {
      "cell_type": "code",
      "execution_count": 9,
      "id": "69cb77da",
      "metadata": {},
      "outputs": [],
      "source": [
        "from langchain_teddynote.document_loaders import HWPLoader\n",
        "\n",
        "loader = HWPLoader(file_path=\"data/Regulations_of_the_Establishment_and_Operation_of_the_National_Artificial_Intelligence_Committee.hwp\")"
      ]
    },
    {
      "cell_type": "markdown",
      "id": "2b2fc536",
      "metadata": {},
      "source": [
        "### Loader\n",
        "\n",
        "You can load the document with `load` method."
      ]
    },
    {
      "cell_type": "code",
      "execution_count": 11,
      "id": "1b78d33f",
      "metadata": {},
      "outputs": [
        {
          "name": "stdout",
          "output_type": "stream",
          "text": [
            "Regulations on the Establishment and Operation of the National Artifical Intelligence Committee[Effective Augst 6, 2024] [Presidential Decree No. 34787, Enacted August 6, 2024]Regulations on the Establishment and Operation of the National Artificial Intelligence Committee Ministry of Government Legislation-  /  - National Statutory Information Center    Reason for Enactment [Enactment]◇ Purpose  To establish the National Artificial Intelligence Committee under the President to strengthen national competitiveness, protect national interests, and improve the quality of life for citizens by promoting the artificial intelligence industry and creating a trustworthy AI usage environment.◇ Main Contents  A. Establishment and Functions of the National AI Committee (Article 2)    1) The National AI Committee shall be established under the President to efficiently deliberate and coordinate major policies for promoting the AI industry and establishing a foundation of trust in AI.    2) The Commit\n"
          ]
        }
      ],
      "source": [
        "docs = loader.load()\n",
        "\n",
        "print(docs[0].page_content[:1000])"
      ]
    },
    {
      "cell_type": "code",
      "execution_count": 12,
      "id": "2e8b719d",
      "metadata": {},
      "outputs": [
        {
          "data": {
            "text/plain": [
              "1"
            ]
          },
          "execution_count": 12,
          "metadata": {},
          "output_type": "execute_result"
        }
      ],
      "source": [
        "len(docs) # Check the number of documents"
      ]
    },
    {
      "cell_type": "code",
      "execution_count": 15,
      "id": "33303851",
      "metadata": {},
      "outputs": [
        {
          "name": "stdout",
          "output_type": "stream",
          "text": [
            "{'source': 'data/Regulations_of_the_Establishment_and_Operation_of_the_National_Artificial_Intelligence_Committee.hwp'}\n"
          ]
        }
      ],
      "source": [
        "print(docs[0].metadata) # Information about the document"
      ]
    }
  ],
  "metadata": {
    "kernelspec": {
      "display_name": "langchain-kr-lwwSZlnu-py3.11",
      "language": "python",
      "name": "python3"
    },
    "language_info": {
      "codemirror_mode": {
        "name": "ipython",
        "version": 3
      },
      "file_extension": ".py",
      "mimetype": "text/x-python",
      "name": "python",
      "nbconvert_exporter": "python",
      "pygments_lexer": "ipython3",
      "version": "3.11.5"
    }
  },
  "nbformat": 4,
  "nbformat_minor": 5
}