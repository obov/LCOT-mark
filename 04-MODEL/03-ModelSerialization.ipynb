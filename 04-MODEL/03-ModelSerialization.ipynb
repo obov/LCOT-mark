{
 "cells": [
  {
   "cell_type": "markdown",
   "metadata": {},
   "source": [
    "# Model Serialization\n",
    "\n",
    "- Author: [Mark](https://github.com/obov)\n",
    "- This is a part of [LangChain Open Tutorial](https://github.com/LangChain-OpenTutorial/LangChain-OpenTutorial)\n",
    "\n",
    "[![Open in Colab](https://colab.research.google.com/assets/colab-badge.svg)](https://colab.research.google.com/github/langchain-ai/langchain-academy/blob/main/module-4/sub-graph.ipynb) [![Open in LangChain Academy](https://cdn.prod.website-files.com/65b8cd72835ceeacd4449a53/66e9eba12c7b7688aa3dbb5e_LCA-badge-green.svg)](https://academy.langchain.com/courses/take/intro-to-langgraph/lessons/58239937-lesson-2-sub-graphs)\n",
    "\n",
    "## Overview\n",
    "\n",
    "Serialization is the process of converting an object into a format that can be easily stored, shared, or transmitted, and later reconstructed. In the LangChain framework, classes implement standard methods for serialization, providing several advantages:\n",
    "\n",
    "- **Separation of Secrets**: Sensitive information, such as API keys, is separated from other parameters and can be securely reloaded into the object during deserialization.\n",
    "\n",
    "- **Version Compatibility**: Deserialization remains compatible across different package versions, ensuring that objects serialized with one version of LangChain can be properly deserialized with another.\n",
    "\n",
    "All LangChain objects inheriting from `Serializable` are JSON-serializable, including messages, document objects (e.g., those returned from retrievers), and most Runnables such as chat models, retrievers, and chains implemented with the LangChain Expression Language.\n",
    "\n",
    "### Saving and Loading LangChain Objects\n",
    "\n",
    "To effectively manage LangChain objects, you can serialize and deserialize them using the following functions:\n",
    "\n",
    "- **`dumpd`**: Returns a dictionary representation of an object, suitable for JSON serialization.\n",
    "\n",
    "- **`dumps`**: Returns a JSON string representation of an object.\n",
    "\n",
    "- **`load`**: Reconstructs an object from its dictionary representation.\n",
    "\n",
    "- **`loads`**: Reconstructs an object from its JSON string representation.\n",
    "\n",
    "### Table of Contents\n",
    "\n",
    "- [Overview](#overview)\n",
    "- [Environement Setup](#environment-setup)\n",
    "- [Dumps and Loads](#dumps-and-loads)\n",
    "- [Dumpd and Load](#dumpd-and-load)\n",
    "- [Serialization with pickle](#serialization-with-pickle)\n",
    "\n",
    "---\n"
   ]
  },
  {
   "cell_type": "markdown",
   "metadata": {},
   "source": [
    "## Environment Setup\n",
    "\n",
    "Set up the environment. You may refer to [Environment Setup](https://wikidocs.net/257836) for more details.\n",
    "\n",
    "**[Note]**\n",
    "\n",
    "- `langchain-opentutorial` is a package that provides a set of easy-to-use environment setup, useful functions and utilities for tutorials.\n",
    "- You can checkout the [`langchain-opentutorial`](https://github.com/LangChain-OpenTutorial/langchain-opentutorial-pypi) for more details.\n"
   ]
  },
  {
   "cell_type": "code",
   "execution_count": 1,
   "metadata": {},
   "outputs": [],
   "source": [
    "%%capture --no-stderr\n",
    "!pip install langchain-opentutorial"
   ]
  },
  {
   "cell_type": "code",
   "execution_count": 37,
   "metadata": {},
   "outputs": [
    {
     "name": "stderr",
     "output_type": "stream",
     "text": [
      "\n",
      "\u001b[1m[\u001b[0m\u001b[34;49mnotice\u001b[0m\u001b[1;39;49m]\u001b[0m\u001b[39;49m A new release of pip is available: \u001b[0m\u001b[31;49m24.1\u001b[0m\u001b[39;49m -> \u001b[0m\u001b[32;49m24.3.1\u001b[0m\n",
      "\u001b[1m[\u001b[0m\u001b[34;49mnotice\u001b[0m\u001b[1;39;49m]\u001b[0m\u001b[39;49m To update, run: \u001b[0m\u001b[32;49mpip install --upgrade pip\u001b[0m\n"
     ]
    }
   ],
   "source": [
    "# Install required packages\n",
    "from langchain_opentutorial import package\n",
    "\n",
    "package.install(\n",
    "    [\n",
    "        \"langsmith\",\n",
    "        \"langchain\",\n",
    "        \"langchain_core\",\n",
    "        \"langchain_openai\",\n",
    "    ],\n",
    "    verbose=False,\n",
    "    upgrade=False,\n",
    ")"
   ]
  },
  {
   "cell_type": "code",
   "execution_count": 38,
   "metadata": {},
   "outputs": [
    {
     "name": "stdout",
     "output_type": "stream",
     "text": [
      "Environment variables have been set successfully.\n"
     ]
    }
   ],
   "source": [
    "# Set environment variables\n",
    "from langchain_opentutorial import set_env\n",
    "\n",
    "set_env(\n",
    "    {\n",
    "        \"OPENAI_API_KEY\": \"Your API KEY\",\n",
    "        \"LANGCHAIN_API_KEY\": \"\",\n",
    "        \"LANGCHAIN_TRACING_V2\": \"true\",\n",
    "        \"LANGCHAIN_ENDPOINT\": \"https://api.smith.langchain.com\",\n",
    "        \"LANGCHAIN_PROJECT\": \"Caching\",\n",
    "    }\n",
    ")"
   ]
  },
  {
   "cell_type": "code",
   "execution_count": 39,
   "metadata": {},
   "outputs": [
    {
     "data": {
      "text/plain": [
       "True"
      ]
     },
     "execution_count": 39,
     "metadata": {},
     "output_type": "execute_result"
    }
   ],
   "source": [
    "# Alternatively, one can set environmental variables with load_dotenv\n",
    "from dotenv import load_dotenv\n",
    "\n",
    "\n",
    "load_dotenv(override=True)"
   ]
  },
  {
   "cell_type": "code",
   "execution_count": 40,
   "metadata": {},
   "outputs": [],
   "source": [
    "from langchain_openai import ChatOpenAI\n",
    "from langchain_core.prompts import PromptTemplate\n",
    "\n",
    "# Create model\n",
    "llm = ChatOpenAI(model_name=\"gpt-4o-mini\")\n",
    "\n",
    "# Generate prompt\n",
    "prompt = PromptTemplate.from_template(\n",
    "    \"Sumarize about the {country} in about 200 characters\"\n",
    ")\n",
    "\n",
    "# Create chain\n",
    "chain = prompt | llm"
   ]
  },
  {
   "cell_type": "markdown",
   "metadata": {},
   "source": [
    "## Dumps and Loads\n",
    "\n",
    "- dumps : LangChain object into a JSON-formatted string\n",
    "- loads : JSON-formatted string into a LangChain object\n"
   ]
  },
  {
   "cell_type": "code",
   "execution_count": 41,
   "metadata": {},
   "outputs": [
    {
     "name": "stdout",
     "output_type": "stream",
     "text": [
      "{\n",
      "  \"lc\": 1,\n",
      "  \"type\": \"constructor\",\n",
      "  \"id\": [\n",
      "    \"langchain\",\n",
      "    \"chat_models\",\n",
      "    \"openai\",\n",
      "    \"ChatOpenAI\"\n",
      "  ],\n",
      "  \"kwargs\": {\n",
      "    \"model_name\": \"gpt-4o-mini\",\n",
      "    \"temperature\": 0.7,\n",
      "    \"openai_api_key\": {\n",
      "      \"lc\": 1,\n",
      "      \"type\": \"secret\",\n",
      "      \"id\": [\n",
      "        \"OPENAI_API_KEY\"\n",
      "      ]\n",
      "    },\n",
      "    \"max_retries\": 2,\n",
      "    \"n\": 1\n",
      "  },\n",
      "  \"name\": \"ChatOpenAI\"\n",
      "}\n",
      "<class 'str'>\n",
      "{\"lc\": 1, \"type\": \"constructor\", \"id\": [\"langchain\", \"prompts\", \"prompt\", \"PromptTemplate\"], \"kwargs ...\n",
      "<class 'str'>\n",
      "{\"lc\": 1, \"type\": \"constructor\", \"id\": [\"langchain\", \"schema\", \"runnable\", \"RunnableSequence\"], \"kwa ...\n",
      "<class 'str'>\n"
     ]
    }
   ],
   "source": [
    "from langchain_core.load import dumps\n",
    "\n",
    "# Serialize LangChain object to JSON like string\n",
    "\n",
    "serialized_llm = dumps(llm, pretty=True)\n",
    "print(serialized_llm)\n",
    "print(type(serialized_llm))\n",
    "\n",
    "serialized_prompt = dumps(prompt)\n",
    "print(serialized_prompt[:100] + \" ...\")\n",
    "print(type(serialized_prompt))\n",
    "\n",
    "serialized_chain = dumps(chain)\n",
    "print(serialized_chain[:100] + \" ...\")\n",
    "print(type(serialized_chain))"
   ]
  },
  {
   "cell_type": "code",
   "execution_count": 42,
   "metadata": {},
   "outputs": [
    {
     "name": "stdout",
     "output_type": "stream",
     "text": [
      "<class 'langchain_openai.chat_models.base.ChatOpenAI'>\n",
      "<class 'langchain_core.prompts.prompt.PromptTemplate'>\n",
      "<class 'langchain_core.runnables.base.RunnableSequence'>\n"
     ]
    }
   ],
   "source": [
    "from langchain_core.load import loads\n",
    "\n",
    "# Deserialize JSON like string to LangChain object\n",
    "\n",
    "deserialized_llm = loads(serialized_llm)\n",
    "print(type(deserialized_llm))\n",
    "\n",
    "deserialized_prompt = loads(serialized_prompt)\n",
    "print(type(deserialized_prompt))\n",
    "\n",
    "deserialized_chain = loads(serialized_chain)\n",
    "print(type(deserialized_chain))"
   ]
  },
  {
   "cell_type": "code",
   "execution_count": 43,
   "metadata": {},
   "outputs": [
    {
     "name": "stdout",
     "output_type": "stream",
     "text": [
      "South Korea, located on the Korean Peninsula, is known for its rich history, advanced technology, vibrant pop culture (K-pop), and strong economy. It features beautiful landscapes and a blend of tradition and modernity.\n",
      "South Korea, located on the Korean Peninsula, is known for its rich culture, technology, and economic prowess. Major cities include Seoul and Busan, and it boasts a vibrant pop culture, including K-pop and cinema.\n",
      "South Korea, located on the Korean Peninsula, is known for its vibrant culture, advanced technology, and rich history. Its capital, Seoul, is a global city, blending tradition and modernity seamlessly.\n"
     ]
    }
   ],
   "source": [
    "# Invoke chains\n",
    "\n",
    "response = chain.invoke({\"country\": \"South Korea\"})\n",
    "print(response.content)\n",
    "\n",
    "deserialized_response = deserialized_chain.invoke({\"country\": \"South Korea\"})\n",
    "print(deserialized_response.content)\n",
    "\n",
    "deserialized_response_composed = (deserialized_prompt | deserialized_llm).invoke(\n",
    "    {\"country\": \"South Korea\"}\n",
    ")\n",
    "print(deserialized_response_composed.content)"
   ]
  },
  {
   "cell_type": "markdown",
   "metadata": {},
   "source": [
    "## Dumpd and Load\n",
    "\n",
    "- dumpd : LangChain object into a dictionary\n",
    "- load : dictionary into a LangChain object\n"
   ]
  },
  {
   "cell_type": "code",
   "execution_count": 27,
   "metadata": {},
   "outputs": [
    {
     "name": "stdout",
     "output_type": "stream",
     "text": [
      "<class 'dict'>\n",
      "<class 'dict'>\n",
      "<class 'dict'>\n"
     ]
    }
   ],
   "source": [
    "from langchain_core.load import dumpd\n",
    "\n",
    "# Serialize LangChain object to dictionary\n",
    "\n",
    "serialized_llm = dumpd(llm)\n",
    "print(type(serialized_llm))\n",
    "\n",
    "serialized_prompt = dumpd(prompt)\n",
    "print(type(serialized_prompt))\n",
    "\n",
    "serialized_chain = dumpd(chain)\n",
    "print(type(serialized_chain))"
   ]
  },
  {
   "cell_type": "code",
   "execution_count": 28,
   "metadata": {},
   "outputs": [
    {
     "name": "stdout",
     "output_type": "stream",
     "text": [
      "<class 'langchain_openai.chat_models.base.ChatOpenAI'>\n",
      "<class 'langchain_core.prompts.prompt.PromptTemplate'>\n",
      "<class 'langchain_core.runnables.base.RunnableSequence'>\n"
     ]
    },
    {
     "name": "stderr",
     "output_type": "stream",
     "text": [
      "/var/folders/q_/52ctm0y10h589cwbbptjsvrw0000gp/T/ipykernel_52294/1498131518.py:3: LangChainBetaWarning: The function `load` is in beta. It is actively being worked on, so the API may change.\n",
      "  deserialized_llm = load(serialized_llm)\n"
     ]
    }
   ],
   "source": [
    "from langchain_core.load import load\n",
    "\n",
    "# Deserialize dictionary to LangChain object\n",
    "\n",
    "deserialized_llm = load(serialized_llm)\n",
    "print(type(deserialized_llm))\n",
    "\n",
    "deserialized_prompt = load(serialized_prompt)\n",
    "print(type(deserialized_prompt))\n",
    "\n",
    "deserialized_chain = load(serialized_chain)\n",
    "print(type(deserialized_chain))"
   ]
  },
  {
   "cell_type": "code",
   "execution_count": 29,
   "metadata": {},
   "outputs": [
    {
     "name": "stdout",
     "output_type": "stream",
     "text": [
      "South Korea, located in East Asia, is known for its rich culture, technology, and economic development. Its capital, Seoul, blends tradition with modernity, while K-pop and cuisine have gained global popularity.\n",
      "South Korea, located in East Asia, is known for its vibrant culture, advanced technology, and strong economy. It boasts rich history, K-pop, delicious cuisine, and stunning landscapes, blending tradition with modernity.\n",
      "South Korea, located on the Korean Peninsula, is known for its technology, pop culture (K-pop), and rich history. It has a vibrant economy, a democratic government, and a unique blend of tradition and modernity.\n"
     ]
    }
   ],
   "source": [
    "# Invoke chains\n",
    "\n",
    "response = chain.invoke({\"country\": \"South Korea\"})\n",
    "print(response.content)\n",
    "\n",
    "deserialized_response = deserialized_chain.invoke({\"country\": \"South Korea\"})\n",
    "print(deserialized_response.content)\n",
    "\n",
    "deserialized_response_composed = (deserialized_prompt | deserialized_llm).invoke(\n",
    "    {\"country\": \"South Korea\"}\n",
    ")\n",
    "print(deserialized_response_composed.content)"
   ]
  },
  {
   "cell_type": "markdown",
   "metadata": {},
   "source": [
    "## Serialization with pickle\n",
    "\n",
    "The `pickle` module in Python is used for serializing and deserializing Python object structures, also known as _pickling_ and _unpickling_. Serialization involves converting a Python object hierarchy into a byte stream, while deserialization reconstructs the object hierarchy from the byte stream.\n",
    "\n",
    "https://docs.python.org/3/library/pickle.html\n",
    "\n",
    "### Key Functions\n",
    "\n",
    "- **`pickle.dump(obj, file)`**: Serializes `obj` and writes it to the open file object `file`.\n",
    "\n",
    "- **`pickle.load(file)`**: Reads a byte stream from the open file object `file` and deserializes it back into a Python object.\n"
   ]
  },
  {
   "cell_type": "code",
   "execution_count": 49,
   "metadata": {},
   "outputs": [
    {
     "name": "stdout",
     "output_type": "stream",
     "text": [
      "<class 'dict'>\n",
      "<class 'dict'>\n",
      "<class 'dict'>\n"
     ]
    }
   ],
   "source": [
    "from langchain_core.load import dumpd\n",
    "\n",
    "# Serialize LangChain object to dictionary\n",
    "\n",
    "serialized_llm = dumpd(llm)\n",
    "print(type(serialized_llm))\n",
    "\n",
    "serialized_prompt = dumpd(prompt)\n",
    "print(type(serialized_prompt))\n",
    "\n",
    "serialized_chain = dumpd(chain)\n",
    "print(type(serialized_chain))"
   ]
  },
  {
   "cell_type": "code",
   "execution_count": 50,
   "metadata": {},
   "outputs": [],
   "source": [
    "import pickle\n",
    "\n",
    "# Serialize dictionary to pickle file\n",
    "\n",
    "with open(\"data/serialized_llm.pkl\", \"wb\") as f:\n",
    "    pickle.dump(serialized_llm, f)\n",
    "\n",
    "with open(\"data/serialized_prompt.pkl\", \"wb\") as f:\n",
    "    pickle.dump(serialized_prompt, f)\n",
    "\n",
    "with open(\"data/serialized_chain.pkl\", \"wb\") as f:\n",
    "    pickle.dump(serialized_chain, f)"
   ]
  },
  {
   "cell_type": "code",
   "execution_count": 51,
   "metadata": {},
   "outputs": [
    {
     "name": "stdout",
     "output_type": "stream",
     "text": [
      "<class 'dict'>\n",
      "<class 'dict'>\n",
      "<class 'dict'>\n"
     ]
    }
   ],
   "source": [
    "# Deserialize pickle file to dictionary\n",
    "\n",
    "with open(\"data/serialized_llm.pkl\", \"rb\") as f:\n",
    "    loaded_llm = pickle.load(f)\n",
    "    print(type(loaded_llm))\n",
    "\n",
    "with open(\"data/serialized_prompt.pkl\", \"rb\") as f:\n",
    "    loaded_prompt = pickle.load(f)\n",
    "    print(type(loaded_prompt))\n",
    "\n",
    "with open(\"data/serialized_chain.pkl\", \"rb\") as f:\n",
    "    loaded_chain = pickle.load(f)\n",
    "    print(type(loaded_chain))"
   ]
  },
  {
   "cell_type": "code",
   "execution_count": 52,
   "metadata": {},
   "outputs": [
    {
     "name": "stdout",
     "output_type": "stream",
     "text": [
      "<class 'langchain_openai.chat_models.base.ChatOpenAI'>\n",
      "<class 'langchain_core.prompts.prompt.PromptTemplate'>\n",
      "<class 'langchain_core.runnables.base.RunnableSequence'>\n"
     ]
    }
   ],
   "source": [
    "from langchain_core.load import load\n",
    "\n",
    "# Deserialize dictionary to LangChain object\n",
    "\n",
    "deserialized_llm = load(serialized_llm)\n",
    "print(type(deserialized_llm))\n",
    "\n",
    "deserialized_prompt = load(serialized_prompt)\n",
    "print(type(deserialized_prompt))\n",
    "\n",
    "deserialized_chain = load(serialized_chain)\n",
    "print(type(deserialized_chain))"
   ]
  },
  {
   "cell_type": "code",
   "execution_count": 53,
   "metadata": {},
   "outputs": [
    {
     "name": "stdout",
     "output_type": "stream",
     "text": [
      "South Korea, located on the Korean Peninsula, is known for its rich culture, advanced technology, and vibrant economy. Seoul, its capital, blends modernity with tradition, while K-pop and cuisine gain global popularity.\n",
      "South Korea, located in East Asia, is known for its vibrant culture, advanced technology, and rich history. It's a global leader in industries like electronics and automobiles, with Seoul as its bustling capital.\n",
      "South Korea, located on the Korean Peninsula, is known for its vibrant culture, advanced technology, and rich history. It's famous for K-pop, delicious cuisine, and landmarks like Seoul's Gyeongbokgung Palace.\n"
     ]
    }
   ],
   "source": [
    "# Invoke chains\n",
    "\n",
    "response = chain.invoke({\"country\": \"South Korea\"})\n",
    "print(response.content)\n",
    "\n",
    "deserialized_response = deserialized_chain.invoke({\"country\": \"South Korea\"})\n",
    "print(deserialized_response.content)\n",
    "\n",
    "deserialized_response_composed = (deserialized_prompt | deserialized_llm).invoke(\n",
    "    {\"country\": \"South Korea\"}\n",
    ")\n",
    "print(deserialized_response_composed.content)"
   ]
  }
 ],
 "metadata": {
  "kernelspec": {
   "display_name": "langchain-opentutorial-7evm7_Rx-py3.11",
   "language": "python",
   "name": "python3"
  },
  "language_info": {
   "codemirror_mode": {
    "name": "ipython",
    "version": 3
   },
   "file_extension": ".py",
   "mimetype": "text/x-python",
   "name": "python",
   "nbconvert_exporter": "python",
   "pygments_lexer": "ipython3",
   "version": "3.11.10"
  }
 },
 "nbformat": 4,
 "nbformat_minor": 2
}
