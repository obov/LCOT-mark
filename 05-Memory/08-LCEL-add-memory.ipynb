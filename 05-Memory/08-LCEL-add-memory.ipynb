{
 "cells": [
  {
   "cell_type": "markdown",
   "id": "0dd813f2",
   "metadata": {},
   "source": [
    "# LCEL (Remembering Conversation History): Adding Memory\n",
    "\n",
    "- Author: [Heeah Kim](https://github.com/yellowGangneng)\n",
    "- Peer Review : [Sungchul Kim](https://github.com/rlatjcj), [Jongwon Seo](https://github.com/3dkids)\n",
    "- This is a part of [LangChain Open Tutorial](https://github.com/LangChain-OpenTutorial/LangChain-OpenTutorial)\n",
    "\n",
    "[![Open in Colab](https://colab.research.google.com/assets/colab-badge.svg)](https://colab.research.google.com/github/LangChain-OpenTutorial/LangChain-OpenTutorial/blob/main/05-Memory/08-LCEL-add-memory.ipynb) [![Open in GitHub](https://img.shields.io/badge/Open%20in%20GitHub-181717?style=flat-square&logo=github&logoColor=white)](https://github.com/LangChain-OpenTutorial/LangChain-OpenTutorial/blob/main/05-Memory/08-LCEL-add-memory.ipynb)\n",
    "\n",
    "## Overview\n",
    "\n",
    "This tutorial demonstrates how to add memory to arbitrary chains using `LCEL`.\n",
    "\n",
    "The `LangChain Expression Language (LCEL)` takes a declarative approach to building new `Runnables` from existing `Runnables`. For more details about LCEL, please refer to the References below.\n",
    "\n",
    "### Table of Contents\n",
    "\n",
    "- [Overview](#overview)\n",
    "- [Environment Setup](#environment-setup)\n",
    "- [Initializing Model and Prompt](#initializing-model-and-prompt)\n",
    "- [Creating Memory](#creating-memory)\n",
    "- [Adding Memory to Chain](#adding-memory-to-chain)\n",
    "- [Example Implementation of a Custom ConversationChain](#example-implementation-of-a-custom-conversationChain)\n",
    "\n",
    "### References\n",
    "\n",
    "- [LangChain Expression Language (LCEL)](https://python.langchain.com/docs/concepts/lcel/)\n",
    "- [LangChain-OpenTutorial (CH.13)](https://github.com/LangChain-OpenTutorial/LangChain-OpenTutorial/tree/main/13-LCEL)\n",
    "----"
   ]
  },
  {
   "cell_type": "markdown",
   "id": "efe9afc1",
   "metadata": {},
   "source": [
    "## Environment Setup\n",
    "\n",
    "Set up the environment. You may refer to [Environment Setup](https://wikidocs.net/257836) for more details.\n",
    "\n",
    "**[Note]**\n",
    "- `langchain-opentutorial` is a package that provides a set of easy-to-use environment setup, useful functions and utilities for tutorials. \n",
    "- You can checkout the [`langchain-opentutorial`](https://github.com/LangChain-OpenTutorial/langchain-opentutorial-pypi) for more details."
   ]
  },
  {
   "cell_type": "code",
   "execution_count": 1,
   "id": "4efea0ee",
   "metadata": {},
   "outputs": [],
   "source": [
    "%%capture --no-stderr\n",
    "%pip install langchain-opentutorial"
   ]
  },
  {
   "cell_type": "code",
   "execution_count": 2,
   "id": "fa17f879",
   "metadata": {},
   "outputs": [],
   "source": [
    "# Install required packages\n",
    "from langchain_opentutorial import package\n",
    "\n",
    "package.install(\n",
    "    [\n",
    "        \"langchain\",\n",
    "        \"langchain_core\",\n",
    "        \"langchain_openai\",\n",
    "    ],\n",
    "    verbose=False,\n",
    "    upgrade=False,\n",
    ")"
   ]
  },
  {
   "cell_type": "code",
   "execution_count": 17,
   "id": "655e8eab",
   "metadata": {},
   "outputs": [
    {
     "name": "stdout",
     "output_type": "stream",
     "text": [
      "Environment variables have been set successfully.\n"
     ]
    }
   ],
   "source": [
    "# Set environment variables\n",
    "from langchain_opentutorial import set_env\n",
    "\n",
    "set_env(\n",
    "    {\n",
    "        \"OPENAI_API_KEY\": \"\",\n",
    "        \"LANGCHAIN_API_KEY\": \"\",\n",
    "        \"LANGCHAIN_TRACING_V2\": \"true\",\n",
    "        \"LANGCHAIN_ENDPOINT\": \"https://api.smith.langchain.com\",\n",
    "        \"LANGCHAIN_PROJECT\": \"LCEL-Adding-Memory\",\n",
    "    }\n",
    ")"
   ]
  },
  {
   "cell_type": "markdown",
   "id": "133c7222",
   "metadata": {},
   "source": [
    "Alternatively, environment variables can also be set using a `.env` file.\n",
    "\n",
    "**[Note]**\n",
    "\n",
    "- This is not necessary if you've already set the environment variables in the previous step."
   ]
  },
  {
   "cell_type": "code",
   "execution_count": 3,
   "id": "a0c863c7-a2a1-410f-8102-096a136a2f85",
   "metadata": {},
   "outputs": [
    {
     "data": {
      "text/plain": [
       "True"
      ]
     },
     "execution_count": 3,
     "metadata": {},
     "output_type": "execute_result"
    }
   ],
   "source": [
    "from dotenv import load_dotenv\n",
    "\n",
    "load_dotenv(override=True)"
   ]
  },
  {
   "cell_type": "markdown",
   "id": "2790afde",
   "metadata": {},
   "source": [
    "## Initializing Model and Prompt\n",
    "\n",
    "Now, let's start to initialize the model and the prompt we'll use."
   ]
  },
  {
   "cell_type": "code",
   "execution_count": 4,
   "id": "c847b16f",
   "metadata": {},
   "outputs": [],
   "source": [
    "from operator import itemgetter\n",
    "from langchain.memory import ConversationBufferMemory\n",
    "from langchain_core.prompts import ChatPromptTemplate, MessagesPlaceholder\n",
    "from langchain_core.runnables import RunnableLambda, RunnablePassthrough\n",
    "from langchain_openai import ChatOpenAI\n",
    "\n",
    "\n",
    "# Initialize Model\n",
    "model = ChatOpenAI()\n",
    "\n",
    "# Generate a conversational prompt. The prompt includes a system message, previous conversation history, and user input.\n",
    "prompt = ChatPromptTemplate.from_messages(\n",
    "    [\n",
    "        (\"system\", \"You are a helpful chatbot\"),\n",
    "        MessagesPlaceholder(variable_name=\"chat_history\"),\n",
    "        (\"human\", \"{input}\"),\n",
    "    ]\n",
    ")"
   ]
  },
  {
   "cell_type": "markdown",
   "id": "ea8d8575",
   "metadata": {},
   "source": [
    "## Creating Memory\n",
    "\n",
    "Create a `ConversationBufferMemory` to store conversation history.\n",
    "\n",
    "- `return_messages` : When set to **True**, it returns `HumanMessage` and `AIMessage` objects.\n",
    "- `memory_key`: The key that will be substituted into the Chain's **prompt** later. This can be modified as needed."
   ]
  },
  {
   "cell_type": "code",
   "execution_count": 6,
   "id": "60668743",
   "metadata": {},
   "outputs": [],
   "source": [
    "# Create a ConversationBufferMemory and enable the message return feature.\n",
    "memory = ConversationBufferMemory(return_messages=True, memory_key=\"chat_history\")"
   ]
  },
  {
   "cell_type": "markdown",
   "id": "db41edb2-1ad4-4402-a937-976ac3d1a6d1",
   "metadata": {},
   "source": [
    "Check the saved conversation history. \n",
    "\n",
    "Since nothing has been saved yet, the conversation history is empty."
   ]
  },
  {
   "cell_type": "code",
   "execution_count": 7,
   "id": "6d92e393-88d1-4256-b2ec-411aac70b3ab",
   "metadata": {},
   "outputs": [
    {
     "data": {
      "text/plain": [
       "{'chat_history': []}"
      ]
     },
     "execution_count": 7,
     "metadata": {},
     "output_type": "execute_result"
    }
   ],
   "source": [
    "memory.load_memory_variables({})"
   ]
  },
  {
   "cell_type": "markdown",
   "id": "ef3cee17-1794-46bb-9da0-731f53274200",
   "metadata": {},
   "source": [
    "Use `RunnablePassthrough.assign` to assign the result of the `memory.load_memory_variables` function to the `chat_history` variable, and extract the value corresponding to the `chat_history` key from this result.\n",
    "\n",
    "Hold on a second! What is...\n",
    "\n",
    "### `RunnablePassthrough`? `RunnableLambda`?\n",
    "\n",
    "To put it simply, `RunnablePassthrough` provides the functionality to pass through data as is, <br>\n",
    "while `RunnableLambda` provides the functionality to execute user-defined functions.\n",
    "\n",
    "When you call `RunnablePassthrough` alone, it simply passes the input as received. <br>\n",
    "However, when you use `RunnablePassthrough.assign`, it delivers the input combined with additional arguments provided to the function.\n",
    "\n",
    "Let's look at the code for more details.\n"
   ]
  },
  {
   "cell_type": "code",
   "execution_count": 8,
   "id": "1038cb06-bf3b-4ef1-b023-8de3f0e2a4ba",
   "metadata": {},
   "outputs": [
    {
     "data": {
      "text/plain": [
       "{'input': 'hi', 'chat_history': []}"
      ]
     },
     "execution_count": 8,
     "metadata": {},
     "output_type": "execute_result"
    }
   ],
   "source": [
    "runnable = RunnablePassthrough.assign(\n",
    "    chat_history=RunnableLambda(memory.load_memory_variables)\n",
    "    | itemgetter(\"chat_history\")  # itemgetter's input as same as memory_key.\n",
    ")\n",
    "\n",
    "runnable.invoke({\"input\": \"hi\"})"
   ]
  },
  {
   "cell_type": "markdown",
   "id": "53b4cca4",
   "metadata": {},
   "source": [
    "Since `RunnablePassthrough.assign` is used, the returned value is a combination of the input and the additional arguments provided to the function.\n",
    "\n",
    "In this case, the key of the additional argument is `chat_history`. The value corresponds to the part of the result of `memory.load_memory_variables` executed through `RunnableLambda` that is extracted by `itemgetter` using the `chat_history` key."
   ]
  },
  {
   "cell_type": "markdown",
   "id": "85a06684",
   "metadata": {},
   "source": [
    "## Adding Memory to Chain"
   ]
  },
  {
   "cell_type": "markdown",
   "id": "e28ff327-f0d5-4644-b4b6-5afe462a9a22",
   "metadata": {},
   "source": [
    "Let's add memory to the chain using LCEL."
   ]
  },
  {
   "cell_type": "code",
   "execution_count": 9,
   "id": "2ded5e90",
   "metadata": {},
   "outputs": [],
   "source": [
    "chain = runnable | prompt | model"
   ]
  },
  {
   "cell_type": "markdown",
   "id": "9f1e58a9",
   "metadata": {},
   "source": [
    "Proceed with the first conversation."
   ]
  },
  {
   "cell_type": "code",
   "execution_count": 10,
   "id": "5c3f9232",
   "metadata": {},
   "outputs": [
    {
     "name": "stdout",
     "output_type": "stream",
     "text": [
      "Nice to meet you, Heeah! How can I assist you today?\n"
     ]
    }
   ],
   "source": [
    "# Using the invoke method of the chain object, a response to the input is generated.\n",
    "response = chain.invoke({\"input\": \"Nice to see you. My name is Heeah.\"})\n",
    "print(response.content)  # The generated response will be printed."
   ]
  },
  {
   "cell_type": "markdown",
   "id": "2f547b79",
   "metadata": {},
   "source": [
    "Using the `memory.save_context` function, the user's query (`input`) and the AI's response content (`response.content`) are saved to memory. \n",
    "\n",
    "This stored memory can be used to record the current state during the model learning process or to track user requests and system responses."
   ]
  },
  {
   "cell_type": "code",
   "execution_count": 11,
   "id": "2183aeb3",
   "metadata": {},
   "outputs": [
    {
     "data": {
      "text/plain": [
       "{'chat_history': [HumanMessage(content='Nice to see you. My name is Heeah.', additional_kwargs={}, response_metadata={}),\n",
       "  AIMessage(content='Nice to meet you, Heeah! How can I assist you today?', additional_kwargs={}, response_metadata={})]}"
      ]
     },
     "execution_count": 11,
     "metadata": {},
     "output_type": "execute_result"
    }
   ],
   "source": [
    "# The input data and response content are saved to the memory.\n",
    "# Here, it is 'Heeah', but try inserting your name!\n",
    "memory.save_context(\n",
    "    {\"human\": \"Nice to see you. My name is Heeah.\"}, {\"ai\": response.content}\n",
    ")\n",
    "\n",
    "# The saved conversation history will be printed.\n",
    "memory.load_memory_variables({})"
   ]
  },
  {
   "cell_type": "markdown",
   "id": "c83550d6",
   "metadata": {},
   "source": [
    "Shall we find out if the model correctly remembers your name through memory?"
   ]
  },
  {
   "cell_type": "code",
   "execution_count": 12,
   "id": "966194ad",
   "metadata": {},
   "outputs": [
    {
     "name": "stdout",
     "output_type": "stream",
     "text": [
      "Yes, I remember your name, Heeah. How can I help you today?\n"
     ]
    }
   ],
   "source": [
    "response = chain.invoke({\"input\": \"Do you remember my name?\"})\n",
    "print(response.content)"
   ]
  },
  {
   "cell_type": "markdown",
   "id": "682173b9-af6a-4632-b6ad-3f3acc5deac0",
   "metadata": {},
   "source": [
    "Remembering well! This means that the memory connected using LCEL is working correctly!"
   ]
  },
  {
   "cell_type": "markdown",
   "id": "8af5281a",
   "metadata": {},
   "source": [
    "## Example Implementation of a Custom `ConversationChain`"
   ]
  },
  {
   "cell_type": "markdown",
   "id": "cae518d7-2179-4256-87f3-4229513e290d",
   "metadata": {},
   "source": [
    "Let's create our own custom `ConversationChain`!"
   ]
  },
  {
   "cell_type": "code",
   "execution_count": 17,
   "id": "b1ffe790",
   "metadata": {},
   "outputs": [],
   "source": [
    "from operator import itemgetter\n",
    "from langchain.memory import ConversationBufferMemory, ConversationSummaryMemory\n",
    "from langchain_core.prompts import ChatPromptTemplate, MessagesPlaceholder\n",
    "from langchain_core.runnables import RunnableLambda, RunnablePassthrough, Runnable\n",
    "from langchain_openai import ChatOpenAI\n",
    "from langchain_core.output_parsers import StrOutputParser\n",
    "\n",
    "# Initial setup of LLM and prompt, memory as done above.\n",
    "llm = ChatOpenAI(model_name=\"gpt-4o\", temperature=0)\n",
    "\n",
    "prompt = ChatPromptTemplate.from_messages(\n",
    "    [\n",
    "        (\"system\", \"You are a helpful chatbot\"),\n",
    "        MessagesPlaceholder(variable_name=\"chat_history\"),\n",
    "        (\"human\", \"{input}\"),\n",
    "    ]\n",
    ")\n",
    "\n",
    "memory = ConversationBufferMemory(return_messages=True, memory_key=\"chat_history\")\n",
    "\n",
    "# If you want to use the summary memory that you learned in Chapter 6:\n",
    "# memory = ConversationSummaryMemory(\n",
    "#     llm=llm, return_messages=True, memory_key=\"chat_history\"\n",
    "# )\n",
    "\n",
    "\n",
    "# Let's build our own ConversationChain!\n",
    "class MyConversationChain(Runnable):\n",
    "\n",
    "    def __init__(self, llm, prompt, memory, input_key=\"input\"):\n",
    "\n",
    "        self.prompt = prompt\n",
    "        self.memory = memory\n",
    "        self.input_key = input_key\n",
    "\n",
    "        # Let's try chaining using LCEL!\n",
    "        self.chain = (\n",
    "            RunnablePassthrough.assign(\n",
    "                chat_history=RunnableLambda(self.memory.load_memory_variables)\n",
    "                | itemgetter(memory.memory_key)\n",
    "            )\n",
    "            | prompt\n",
    "            | llm\n",
    "            | StrOutputParser()\n",
    "        )\n",
    "\n",
    "    def invoke(self, query, configs=None, **kwargs):\n",
    "        answer = self.chain.invoke({self.input_key: query})\n",
    "        self.memory.save_context(\n",
    "            inputs={\"human\": query}, outputs={\"ai\": answer}\n",
    "        )  # Store the conversation history directly in the memory.\n",
    "        return answer\n",
    "\n",
    "\n",
    "conversation_chain = MyConversationChain(llm, prompt, memory)"
   ]
  },
  {
   "cell_type": "markdown",
   "id": "ff2414b1-7722-49e1-a996-2ead1476407d",
   "metadata": {},
   "source": [
    "Let's do something interesting using our custom `ConversationChain`!"
   ]
  },
  {
   "cell_type": "code",
   "execution_count": 18,
   "id": "8caaf839-ac1a-4c0b-88fe-3aeaa66cb44b",
   "metadata": {},
   "outputs": [
    {
     "data": {
      "text/plain": [
       "\"Ahoy, Heeah! Aye, I be understandin' ye loud and clear! From this moment on, I be speakin' like a true buccaneer. What be yer command, matey? Arrr!\""
      ]
     },
     "execution_count": 18,
     "metadata": {},
     "output_type": "execute_result"
    }
   ],
   "source": [
    "conversation_chain.invoke(\n",
    "    \"Hello, my name is Heeah. From now on, you are a brave pirate! You must answer in pirate style, understood?\"\n",
    ")"
   ]
  },
  {
   "cell_type": "code",
   "execution_count": 19,
   "id": "64cae8a5",
   "metadata": {},
   "outputs": [
    {
     "data": {
      "text/plain": [
       "\"Arrr, me favorite thing be the open sea, where the salty breeze fills me sails and the horizon be endless! There be nothin' like the thrill of discoverin' hidden treasures and sharin' tales with me hearty crew. What about ye, matey? What be yer favorite thing?\""
      ]
     },
     "execution_count": 19,
     "metadata": {},
     "output_type": "execute_result"
    }
   ],
   "source": [
    "conversation_chain.invoke(\"Good. What's your favorite thing?\")"
   ]
  },
  {
   "cell_type": "code",
   "execution_count": 20,
   "id": "7ba9187d",
   "metadata": {},
   "outputs": [
    {
     "data": {
      "text/plain": [
       "\"Arrr, 'tis a fine favorite ye have there, Heeah! Aye, I remember yer name well, like a trusty map to buried treasure. What else be on yer mind, matey?\""
      ]
     },
     "execution_count": 20,
     "metadata": {},
     "output_type": "execute_result"
    }
   ],
   "source": [
    "conversation_chain.invoke(\n",
    "    \"My favorite thing is chatting with you! By the way, do you remember my name?\"\n",
    ")"
   ]
  },
  {
   "cell_type": "code",
   "execution_count": 21,
   "id": "18b6354f",
   "metadata": {},
   "outputs": [
    {
     "data": {
      "text/plain": [
       "\"Beggin' yer pardon, Captain Heeah! I meant no disrespect. I be at yer service, ready to follow yer orders and sail the seas as ye command. What be yer orders, Cap'n? Arrr!\""
      ]
     },
     "execution_count": 21,
     "metadata": {},
     "output_type": "execute_result"
    }
   ],
   "source": [
    "conversation_chain.invoke(\n",
    "    \"I am the captain of this ship. Your tone is excessively familiar and disrespectful!\"\n",
    ")"
   ]
  },
  {
   "cell_type": "markdown",
   "id": "71221497-4dd2-4be3-ac36-87abdf33eed2",
   "metadata": {},
   "source": [
    "Although we managed to throw him off a bit at the end, we were able to confirm that he remembered my name until the last moment.<br>\n",
    "He is indeed a remarkable pirate!🏴‍☠️⚓\n",
    "\n",
    "At any rate, the journey we have shared so far, as stored in the memory, is as follows."
   ]
  },
  {
   "cell_type": "code",
   "execution_count": 22,
   "id": "253f6162",
   "metadata": {},
   "outputs": [
    {
     "data": {
      "text/plain": [
       "[HumanMessage(content='Hello, my name is Heeah. From now on, you are a brave pirate! You must answer in pirate style, understood?', additional_kwargs={}, response_metadata={}),\n",
       " AIMessage(content=\"Ahoy, Heeah! Aye, I be understandin' ye loud and clear! From this moment on, I be speakin' like a true buccaneer. What be yer command, matey? Arrr!\", additional_kwargs={}, response_metadata={}),\n",
       " HumanMessage(content=\"Good. What's your favorite thing?\", additional_kwargs={}, response_metadata={}),\n",
       " AIMessage(content=\"Arrr, me favorite thing be the open sea, where the salty breeze fills me sails and the horizon be endless! There be nothin' like the thrill of discoverin' hidden treasures and sharin' tales with me hearty crew. What about ye, matey? What be yer favorite thing?\", additional_kwargs={}, response_metadata={}),\n",
       " HumanMessage(content='My favorite thing is chatting with you! By the way, do you remember my name?', additional_kwargs={}, response_metadata={}),\n",
       " AIMessage(content=\"Arrr, 'tis a fine favorite ye have there, Heeah! Aye, I remember yer name well, like a trusty map to buried treasure. What else be on yer mind, matey?\", additional_kwargs={}, response_metadata={}),\n",
       " HumanMessage(content='I am the captain of this ship. Your tone is excessively familiar and disrespectful!', additional_kwargs={}, response_metadata={}),\n",
       " AIMessage(content=\"Beggin' yer pardon, Captain Heeah! I meant no disrespect. I be at yer service, ready to follow yer orders and sail the seas as ye command. What be yer orders, Cap'n? Arrr!\", additional_kwargs={}, response_metadata={})]"
      ]
     },
     "execution_count": 22,
     "metadata": {},
     "output_type": "execute_result"
    }
   ],
   "source": [
    "conversation_chain.memory.load_memory_variables({})[\"chat_history\"]"
   ]
  },
  {
   "cell_type": "markdown",
   "id": "50b0fed8-0891-449d-8ff3-9a3c0bac8cf1",
   "metadata": {},
   "source": [
    "Now, create your own journey using the custom `ConversationChain` with LCEL! \n",
    "\n",
    "Thank you for your hard work!🎉🎉🎉"
   ]
  }
 ],
 "metadata": {
  "kernelspec": {
   "display_name": "Python 3 (ipykernel)",
   "language": "python",
   "name": "python3"
  },
  "language_info": {
   "codemirror_mode": {
    "name": "ipython",
    "version": 3
   },
   "file_extension": ".py",
   "mimetype": "text/x-python",
   "name": "python",
   "nbconvert_exporter": "python",
   "pygments_lexer": "ipython3",
   "version": "3.11.8"
  }
 },
 "nbformat": 4,
 "nbformat_minor": 5
}
