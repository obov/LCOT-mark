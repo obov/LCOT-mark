{
  "cells": [
    {
      "cell_type": "markdown",
      "metadata": {},
      "source": [
        "# ConversationBufferMemory\n",
        "\n",
        "- Author: [Sungchul Kim](https://github.com/rlatjcj)\n",
        "- Design: [Sungchul Kim](https://github.com/rlatjcj)\n",
        "- Peer Review : [Shinar12](https://github.com/Shinar12), [BAEM1N](https://github.com/BAEM1N), [YellowGangneng](https://github.com/YellowGangneng)\n",
        "- This is a part of [LangChain Open Tutorial](https://github.com/LangChain-OpenTutorial/LangChain-OpenTutorial)\n",
        "\n",
        "[![Open in Colab](https://colab.research.google.com/assets/colab-badge.svg)](https://colab.research.google.com/github/LangChain-OpenTutorial/LangChain-OpenTutorial/blob/main/05-Memory/01-ConversationBufferMemory.ipynb) [![Open in GitHub](https://img.shields.io/badge/Open%20in%20GitHub-181717?style=flat-square&logo=github&logoColor=white)](https://github.com/LangChain-OpenTutorial/LangChain-OpenTutorial/blob/main/05-Memory/01-ConversationBufferMemory.ipynb)\n",
        "\n",
        "## Overview\n",
        "\n",
        "This tutorial introduces the `ConversationBufferMemory` class, which is a memory class that stores conversation history in a buffer.  \n",
        "Usually, it doesn't need any additional processing, but sometimes it may be required, such as when the conversation history is too large to fit in the context window of the model.  \n",
        "In this tutorial, we will learn how to use the `ConversationBufferMemory` class to store and retrieve conversation history.\n",
        "\n",
        "\n",
        "### Table of Contents\n",
        "\n",
        "- [Overview](#overview)\n",
        "- [Environment Setup](#environment-setup)\n",
        "- [Extract messages as strings](#extract-messages-as-strings)\n",
        "- [Extract messages as `HumanMessage` and `AIMessage` objects](#extract-messages-as-humanmessage-and-aimessage-objects)\n",
        "- [Apply to Chain](#apply-to-chain)\n",
        "\n",
        "### References\n",
        "- [LangChain: ConversationBufferMemory](https://python.langchain.com/api_reference/langchain/memory/langchain.memory.buffer.ConversationBufferMemory.html)\n",
        "----"
      ]
    },
    {
      "cell_type": "markdown",
      "metadata": {},
      "source": [
        "## Environment Setup\n",
        "\n",
        "Set up the environment. You may refer to [Environment Setup](https://wikidocs.net/257836) for more details.\n",
        "\n",
        "**[Note]**\n",
        "- `langchain-opentutorial` is a package that provides a set of easy-to-use environment setup, useful functions and utilities for tutorials. \n",
        "- You can checkout the [`langchain-opentutorial`](https://github.com/LangChain-OpenTutorial/langchain-opentutorial-pypi) for more details."
      ]
    },
    {
      "cell_type": "code",
      "execution_count": 1,
      "metadata": {},
      "outputs": [],
      "source": [
        "%%capture --no-stderr\n",
        "!pip install langchain-opentutorial"
      ]
    },
    {
      "cell_type": "code",
      "execution_count": 2,
      "metadata": {},
      "outputs": [],
      "source": [
        "# Install required packages\n",
        "from langchain_opentutorial import package\n",
        "\n",
        "package.install(\n",
        "    [\n",
        "        \"langsmith\",\n",
        "        \"langchain\",\n",
        "        \"langchain_openai\",\n",
        "    ],\n",
        "    verbose=False,\n",
        "    upgrade=False,\n",
        ")"
      ]
    },
    {
      "cell_type": "code",
      "execution_count": 4,
      "metadata": {},
      "outputs": [
        {
          "name": "stdout",
          "output_type": "stream",
          "text": [
            "Environment variables have been set successfully.\n"
          ]
        }
      ],
      "source": [
        "# Set environment variables\n",
        "from langchain_opentutorial import set_env\n",
        "\n",
        "set_env(\n",
        "    {\n",
        "        \"OPENAI_API_KEY\": \"\",\n",
        "        \"LANGCHAIN_API_KEY\": \"\",\n",
        "        \"LANGCHAIN_TRACING_V2\": \"true\",\n",
        "        \"LANGCHAIN_ENDPOINT\": \"https://api.smith.langchain.com\",\n",
        "        \"LANGCHAIN_PROJECT\": \"ConversationBufferMemory\",\n",
        "    }\n",
        ")"
      ]
    },
    {
      "cell_type": "markdown",
      "metadata": {},
      "source": [
        "You can alternatively set `OPENAI_API_KEY` in `.env` file and load it.\n",
        "\n",
        "**[Note]**  \n",
        "- This is not necessary if you've already set `OPENAI_API_KEY` in previous steps."
      ]
    },
    {
      "cell_type": "code",
      "execution_count": 3,
      "metadata": {},
      "outputs": [
        {
          "data": {
            "text/plain": [
              "True"
            ]
          },
          "execution_count": 3,
          "metadata": {},
          "output_type": "execute_result"
        }
      ],
      "source": [
        "from dotenv import load_dotenv\n",
        "\n",
        "load_dotenv()"
      ]
    },
    {
      "cell_type": "markdown",
      "metadata": {},
      "source": [
        "## Extract messages as strings\n",
        "\n",
        "This memory allows you to extract messages into a variable after storing them.\n"
      ]
    },
    {
      "cell_type": "code",
      "execution_count": 5,
      "metadata": {},
      "outputs": [],
      "source": [
        "from langchain.memory import ConversationBufferMemory"
      ]
    },
    {
      "cell_type": "code",
      "execution_count": 6,
      "metadata": {},
      "outputs": [
        {
          "name": "stderr",
          "output_type": "stream",
          "text": [
            "/tmp/ipykernel_188575/2223904900.py:1: LangChainDeprecationWarning: Please see the migration guide at: https://python.langchain.com/docs/versions/migrating_memory/\n",
            "  memory = ConversationBufferMemory()\n"
          ]
        },
        {
          "data": {
            "text/plain": [
              "ConversationBufferMemory(chat_memory=InMemoryChatMessageHistory(messages=[]))"
            ]
          },
          "execution_count": 6,
          "metadata": {},
          "output_type": "execute_result"
        }
      ],
      "source": [
        "memory = ConversationBufferMemory()\n",
        "memory"
      ]
    },
    {
      "cell_type": "markdown",
      "metadata": {},
      "source": [
        "You can use the `save_context(inputs, outputs)` method to save conversation records.\n",
        "\n",
        "- This method takes two arguments, `inputs` and `outputs`.\n",
        "- `inputs` stores the user's input, and `outputs` stores the AI's output.\n",
        "- Using this method saves the conversation record under the `history` key.\n",
        "- Later, you can use the `load_memory_variables` method to check the saved conversation record.\n"
      ]
    },
    {
      "cell_type": "code",
      "execution_count": 7,
      "metadata": {},
      "outputs": [],
      "source": [
        "# inputs: dictionary(key: \"human\" or \"ai\", value: question)\n",
        "# outputs: dictionary(key: \"ai\" or \"human\", value: answer)\n",
        "memory.save_context(\n",
        "    inputs={\n",
        "        \"human\": \"Hello, I want to open a bank account remotely. How do I start?\",\n",
        "    },\n",
        "    outputs={\n",
        "        \"ai\": \"Hello! I'm glad you want to open an account. First, please prepare your ID for identity verification.\"\n",
        "    },\n",
        ")"
      ]
    },
    {
      "cell_type": "code",
      "execution_count": 12,
      "metadata": {},
      "outputs": [
        {
          "data": {
            "text/plain": [
              "ConversationBufferMemory(chat_memory=InMemoryChatMessageHistory(messages=[HumanMessage(content='Hello, I want to open a bank account remotely. How do I start?', additional_kwargs={}, response_metadata={}), AIMessage(content=\"Hello! I'm glad you want to open an account. First, please prepare your ID for identity verification.\", additional_kwargs={}, response_metadata={})]))"
            ]
          },
          "execution_count": 12,
          "metadata": {},
          "output_type": "execute_result"
        }
      ],
      "source": [
        "memory"
      ]
    },
    {
      "cell_type": "markdown",
      "metadata": {},
      "source": [
        "The `load_memory_variables({})` function of memory returns the message history."
      ]
    },
    {
      "cell_type": "code",
      "execution_count": 13,
      "metadata": {},
      "outputs": [
        {
          "name": "stdout",
          "output_type": "stream",
          "text": [
            "Human: Hello, I want to open a bank account remotely. How do I start?\n",
            "AI: Hello! I'm glad you want to open an account. First, please prepare your ID for identity verification.\n"
          ]
        }
      ],
      "source": [
        "# Check the message history stored in the 'history' key.\n",
        "print(memory.load_memory_variables({})[\"history\"])"
      ]
    },
    {
      "cell_type": "code",
      "execution_count": 14,
      "metadata": {},
      "outputs": [],
      "source": [
        "memory.save_context(\n",
        "    inputs={\n",
        "        \"human\": \"Yes, I've prepared my ID for identity verification. What should I do next?\"\n",
        "    },\n",
        "    outputs={\n",
        "        \"ai\": \"Thank you. Please upload the front and back of your ID clearly. We will proceed with the identity verification process next.\"\n",
        "    },\n",
        ")"
      ]
    },
    {
      "cell_type": "code",
      "execution_count": 15,
      "metadata": {},
      "outputs": [
        {
          "name": "stdout",
          "output_type": "stream",
          "text": [
            "Human: Hello, I want to open a bank account remotely. How do I start?\n",
            "AI: Hello! I'm glad you want to open an account. First, please prepare your ID for identity verification.\n",
            "Human: Yes, I've prepared my ID for identity verification. What should I do next?\n",
            "AI: Thank you. Please upload the front and back of your ID clearly. We will proceed with the identity verification process next.\n"
          ]
        }
      ],
      "source": [
        "# Check the message history stored in the 'history' key.\n",
        "print(memory.load_memory_variables({})[\"history\"])"
      ]
    },
    {
      "cell_type": "code",
      "execution_count": 16,
      "metadata": {},
      "outputs": [],
      "source": [
        "# Save 2 conversations.\n",
        "memory.save_context(\n",
        "    inputs={\n",
        "        \"human\": \"I uploaded the photo. How do I proceed with identity verification?\"\n",
        "    },\n",
        "    outputs={\n",
        "        \"ai\": \"We have confirmed the photo you uploaded. Please proceed with identity verification through your mobile phone. Please enter the verification number sent by text.\"\n",
        "    },\n",
        ")\n",
        "memory.save_context(\n",
        "    inputs={\n",
        "        \"human\": \"I entered the verification number. How do I open an account now?\"\n",
        "    },\n",
        "    outputs={\n",
        "        \"ai\": \"Identity verification has been completed. Please select the type of account you want and enter the necessary information. You can choose the type of deposit, currency, etc.\"\n",
        "    },\n",
        ")"
      ]
    },
    {
      "cell_type": "code",
      "execution_count": 17,
      "metadata": {},
      "outputs": [
        {
          "name": "stdout",
          "output_type": "stream",
          "text": [
            "Human: Hello, I want to open a bank account remotely. How do I start?\n",
            "AI: Hello! I'm glad you want to open an account. First, please prepare your ID for identity verification.\n",
            "Human: Yes, I've prepared my ID for identity verification. What should I do next?\n",
            "AI: Thank you. Please upload the front and back of your ID clearly. We will proceed with the identity verification process next.\n",
            "Human: I uploaded the photo. How do I proceed with identity verification?\n",
            "AI: We have confirmed the photo you uploaded. Please proceed with identity verification through your mobile phone. Please enter the verification number sent by text.\n",
            "Human: I entered the verification number. How do I open an account now?\n",
            "AI: Identity verification has been completed. Please select the type of account you want and enter the necessary information. You can choose the type of deposit, currency, etc.\n"
          ]
        }
      ],
      "source": [
        "# Check the conversation history stored in the 'history' key.\n",
        "print(memory.load_memory_variables({})[\"history\"])"
      ]
    },
    {
      "cell_type": "code",
      "execution_count": 18,
      "metadata": {},
      "outputs": [],
      "source": [
        "# Save 2 more conversations.\n",
        "memory.save_context(\n",
        "    inputs={\n",
        "        \"human\": \"I've entered all the information. What's the next step?\",\n",
        "    },\n",
        "    outputs={\n",
        "        \"ai\": \"I've confirmed the information you've entered. The account opening process is almost complete. Please agree to the terms of use and confirm the account opening.\"\n",
        "    },\n",
        ")\n",
        "memory.save_context(\n",
        "    inputs={\n",
        "        \"human\": \"I've completed all the steps. Has the account been opened?\",\n",
        "    },\n",
        "    outputs={\n",
        "        \"ai\": \"Yes, the account has been opened. Your account number and related information have been sent to the email you registered. If you need additional help, please contact us at any time. Thank you!\"\n",
        "    },\n",
        ")"
      ]
    },
    {
      "cell_type": "code",
      "execution_count": 19,
      "metadata": {},
      "outputs": [
        {
          "name": "stdout",
          "output_type": "stream",
          "text": [
            "Human: Hello, I want to open a bank account remotely. How do I start?\n",
            "AI: Hello! I'm glad you want to open an account. First, please prepare your ID for identity verification.\n",
            "Human: Yes, I've prepared my ID for identity verification. What should I do next?\n",
            "AI: Thank you. Please upload the front and back of your ID clearly. We will proceed with the identity verification process next.\n",
            "Human: I uploaded the photo. How do I proceed with identity verification?\n",
            "AI: We have confirmed the photo you uploaded. Please proceed with identity verification through your mobile phone. Please enter the verification number sent by text.\n",
            "Human: I entered the verification number. How do I open an account now?\n",
            "AI: Identity verification has been completed. Please select the type of account you want and enter the necessary information. You can choose the type of deposit, currency, etc.\n",
            "Human: I've entered all the information. What's the next step?\n",
            "AI: I've confirmed the information you've entered. The account opening process is almost complete. Please agree to the terms of use and confirm the account opening.\n",
            "Human: I've completed all the steps. Has the account been opened?\n",
            "AI: Yes, the account has been opened. Your account number and related information have been sent to the email you registered. If you need additional help, please contact us at any time. Thank you!\n"
          ]
        }
      ],
      "source": [
        "# Check the conversation history stored in the 'history' key.\n",
        "print(memory.load_memory_variables({})[\"history\"])"
      ]
    },
    {
      "cell_type": "markdown",
      "metadata": {},
      "source": [
        "## Extract messages as `HumanMessage` and `AIMessage` objects\n",
        "\n",
        "Setting `return_messages=True` returns `HumanMessage` and `AIMessage` objects.\n"
      ]
    },
    {
      "cell_type": "code",
      "execution_count": 20,
      "metadata": {},
      "outputs": [],
      "source": [
        "memory = ConversationBufferMemory(return_messages=True)\n",
        "\n",
        "memory.save_context(\n",
        "    inputs={\n",
        "        \"human\": \"Hello, I want to open a bank account remotely. How do I start?\",\n",
        "    },\n",
        "    outputs={\n",
        "        \"ai\": \"Hello! I'm glad you want to open an account. First, please prepare your ID for identity verification.\",\n",
        "    },\n",
        ")\n",
        "\n",
        "memory.save_context(\n",
        "    inputs={\n",
        "        \"human\": \"Yes, I've prepared my ID for identity verification. What should I do next?\"\n",
        "    },\n",
        "    outputs={\n",
        "        \"ai\": \"Thank you. Please upload the front and back of your ID clearly. We will proceed with the identity verification process next.\"\n",
        "    },\n",
        ")\n",
        "\n",
        "memory.save_context(\n",
        "    inputs={\n",
        "        \"human\": \"I uploaded the photo. How do I proceed with identity verification?\"\n",
        "    },\n",
        "    outputs={\n",
        "        \"ai\": \"We have confirmed the photo you uploaded. Please proceed with identity verification through your mobile phone. Please enter the verification number sent by text.\"\n",
        "    },\n",
        ")"
      ]
    },
    {
      "cell_type": "code",
      "execution_count": 21,
      "metadata": {},
      "outputs": [
        {
          "data": {
            "text/plain": [
              "[HumanMessage(content='Hello, I want to open a bank account remotely. How do I start?', additional_kwargs={}, response_metadata={}),\n",
              " AIMessage(content=\"Hello! I'm glad you want to open an account. First, please prepare your ID for identity verification.\", additional_kwargs={}, response_metadata={}),\n",
              " HumanMessage(content=\"Yes, I've prepared my ID for identity verification. What should I do next?\", additional_kwargs={}, response_metadata={}),\n",
              " AIMessage(content='Thank you. Please upload the front and back of your ID clearly. We will proceed with the identity verification process next.', additional_kwargs={}, response_metadata={}),\n",
              " HumanMessage(content='I uploaded the photo. How do I proceed with identity verification?', additional_kwargs={}, response_metadata={}),\n",
              " AIMessage(content='We have confirmed the photo you uploaded. Please proceed with identity verification through your mobile phone. Please enter the verification number sent by text.', additional_kwargs={}, response_metadata={})]"
            ]
          },
          "execution_count": 21,
          "metadata": {},
          "output_type": "execute_result"
        }
      ],
      "source": [
        "# Check the conversation history stored in the 'history' key.\n",
        "memory.load_memory_variables({})[\"history\"]"
      ]
    },
    {
      "cell_type": "markdown",
      "metadata": {},
      "source": [
        "## Apply to Chain\n",
        "\n",
        "Let's apply the `ConversationBufferMemory` to the `ConversationChain`."
      ]
    },
    {
      "cell_type": "code",
      "execution_count": 23,
      "metadata": {},
      "outputs": [
        {
          "name": "stderr",
          "output_type": "stream",
          "text": [
            "/tmp/ipykernel_188575/3549519840.py:8: LangChainDeprecationWarning: The class `ConversationChain` was deprecated in LangChain 0.2.7 and will be removed in 1.0. Use :meth:`~RunnableWithMessageHistory: https://python.langchain.com/v0.2/api_reference/core/runnables/langchain_core.runnables.history.RunnableWithMessageHistory.html` instead.\n",
            "  conversation = ConversationChain(\n"
          ]
        }
      ],
      "source": [
        "from langchain_openai import ChatOpenAI\n",
        "from langchain.chains import ConversationChain\n",
        "\n",
        "# Create an LLM model.\n",
        "llm = ChatOpenAI(temperature=0, model_name=\"gpt-4o\")\n",
        "\n",
        "# Create a ConversationChain.\n",
        "conversation = ConversationChain(\n",
        "    # Use ConversationBufferMemory.\n",
        "    llm=llm,\n",
        "    memory=ConversationBufferMemory(),\n",
        ")"
      ]
    },
    {
      "cell_type": "markdown",
      "metadata": {},
      "source": [
        "Proceed with the conversation using the `ConversationChain`."
      ]
    },
    {
      "cell_type": "code",
      "execution_count": 25,
      "metadata": {},
      "outputs": [
        {
          "name": "stdout",
          "output_type": "stream",
          "text": [
            "Hello again! Opening a bank account remotely is a convenient process, and I’m happy to guide you through it. Here’s a detailed step-by-step guide to help you get started:\n",
            "\n",
            "1. **Research and Choose a Bank**: Start by researching different banks to find one that suits your needs. Consider factors like account fees, interest rates, customer service, and any special features they offer. Online reviews and comparison websites can be helpful in making your decision.\n",
            "\n",
            "2. **Visit the Bank’s Website**: Once you’ve chosen a bank, head to their official website. Look for the section dedicated to personal banking or account opening. Most banks have a clear pathway for opening accounts online.\n",
            "\n",
            "3. **Select the Type of Account**: Decide on the type of account you want to open. Common options include checking accounts, savings accounts, or a combination of both. Some banks also offer specialized accounts like student accounts or high-yield savings accounts.\n",
            "\n",
            "4. **Prepare Required Documents**: Gather the necessary documents and information. Typically, you’ll need:\n",
            "   - A government-issued ID (such as a passport or driver’s license)\n",
            "   - Social Security Number or Tax Identification Number\n",
            "   - Proof of address (like a utility bill or lease agreement)\n",
            "   - Employment and income information\n",
            "\n",
            "5. **Fill Out the Application**: Complete the online application form by entering your personal details, selecting your account preferences, and agreeing to the bank’s terms and conditions.\n",
            "\n",
            "6. **Verify Your Identity**: The bank will likely require you to verify your identity. This might involve uploading a photo of your ID, answering security questions, or participating in a video call with a bank representative.\n",
            "\n",
            "7. **Fund Your Account**: You’ll need to make an initial deposit to activate your account. This can usually be done via a transfer from another bank account, a credit card, or a check.\n",
            "\n",
            "8. **Receive Confirmation**: Once your application is approved and your account is funded, you’ll receive confirmation from the bank. This might include your account number, online banking login details, and information on how to manage your account.\n",
            "\n",
            "9. **Set Up Online Banking**: If you haven’t already, set up online banking to manage your account. This will allow you to check your balance, transfer funds, pay bills, and more.\n",
            "\n",
            "If you have any specific questions about a particular bank or need further assistance, feel free to ask!\n"
          ]
        }
      ],
      "source": [
        "# Start the conversation.\n",
        "response = conversation.predict(\n",
        "    input=\"Hello, I want to open a bank account remotely. How do I start?\"\n",
        ")\n",
        "print(response)"
      ]
    },
    {
      "cell_type": "markdown",
      "metadata": {},
      "source": [
        "Check if the previous conversation history is being remembered."
      ]
    },
    {
      "cell_type": "code",
      "execution_count": 26,
      "metadata": {},
      "outputs": [
        {
          "name": "stdout",
          "output_type": "stream",
          "text": [
            "Certainly! Here’s a summarized version of the steps to open a bank account remotely:\n",
            "\n",
            "- **Research and Choose a Bank**: Consider fees, interest rates, customer service, and special features.\n",
            "- **Visit the Bank’s Website**: Navigate to the personal banking or account opening section.\n",
            "- **Select the Type of Account**: Choose between checking, savings, or specialized accounts.\n",
            "- **Prepare Required Documents**: Gather ID, Social Security Number, proof of address, and income information.\n",
            "- **Fill Out the Application**: Enter personal details and agree to terms and conditions.\n",
            "- **Verify Your Identity**: Upload ID, answer security questions, or join a video call.\n",
            "- **Fund Your Account**: Make an initial deposit via transfer, credit card, or check.\n",
            "- **Receive Confirmation**: Get account number and online banking details.\n",
            "- **Set Up Online Banking**: Manage your account online for transactions and bill payments.\n"
          ]
        }
      ],
      "source": [
        "# Send a request to summarize the previous conversation in bullet points.\n",
        "response = conversation.predict(input=\"Summarize the previous answer in bullet points.\")\n",
        "print(response)"
      ]
    },
    {
      "cell_type": "code",
      "execution_count": null,
      "metadata": {},
      "outputs": [],
      "source": []
    }
  ],
  "metadata": {
    "kernelspec": {
      "display_name": "py-test",
      "language": "python",
      "name": "python3"
    },
    "language_info": {
      "codemirror_mode": {
        "name": "ipython",
        "version": 3
      },
      "file_extension": ".py",
      "mimetype": "text/x-python",
      "name": "python",
      "nbconvert_exporter": "python",
      "pygments_lexer": "ipython3",
      "version": "3.11.10"
    }
  },
  "nbformat": 4,
  "nbformat_minor": 2
}