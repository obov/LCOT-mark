{
  "cells": [
    {
      "cell_type": "markdown",
      "id": "635d8ebb",
      "metadata": {},
      "source": [
        "# VectorStoreRetrieverMemory\n",
        "\n",
        "- Author: [Harheem Kim](https://github.com/harheem)\n",
        "- Peer Review :\n",
        "- This is a part of [LangChain Open Tutorial](https://github.com/LangChain-OpenTutorial/LangChain-OpenTutorial)\n",
        "\n",
        "[![Open in Colab](https://colab.research.google.com/assets/colab-badge.svg)](https://colab.research.google.com/github/LangChain-OpenTutorial/LangChain-OpenTutorial/blob/main/05-Memory/07-VectorStoreRetrieverMemory.ipynb) [![Open in GitHub](https://img.shields.io/badge/Open%20in%20GitHub-181717?style=flat-square&logo=github&logoColor=white)](https://github.com/LangChain-OpenTutorial/LangChain-OpenTutorial/blob/main/05-Memory/07-VectorStoreRetrieverMemory.ipynb)\n",
        "\n",
        "## Overview\n",
        "\n",
        "`VectorStoreRetrieverMemory` stores memory in a vector store and queries the top K most 'relevant' documents whenever called.\n",
        "This differs from most other memory classes in that it does not explicitly track the order of conversation.\n",
        "\n",
        "In this tutorial, we'll explore the practical application of `VectorStoreRetrieverMemory` through a simulated interview scenario. Through this example, we'll see how `VectorStoreRetrieverMemory` searches for information based on semantic relevance rather than chronological order of conversations.\n",
        "\n",
        "### Table of Contents\n",
        "\n",
        "- [Overview](#overview)\n",
        "- [Environment Setup](#environment-setup)\n",
        "- [Initialize Vector Store](#initialize-vector-store)\n",
        "- [Save Interview Conversations](#save-interview-conversations)\n",
        "- [Retrieving Relevant Conversations](#retrieving-relevant-conversations)\n",
        "\n",
        "### References\n",
        "\n",
        "- [LangChain Python API Reference > langchain: 0.3.13 > memory > VectorStoreRetrieverMemory](https://python.langchain.com/api_reference/langchain/memory/langchain.memory.vectorstore.VectorStoreRetrieverMemory.html)\n",
        "- [Faiss](https://github.com/facebookresearch/faiss)\n",
        "----"
      ]
    },
    {
      "cell_type": "markdown",
      "id": "c6c7aba4",
      "metadata": {},
      "source": [
        "## Environment Setup\n",
        "\n",
        "Set up the environment. You may refer to [Environment Setup](https://wikidocs.net/257836) for more details.\n",
        "\n",
        "**[Note]**\n",
        "- `langchain-opentutorial` is a package that provides a set of easy-to-use environment setup, useful functions and utilities for tutorials. \n",
        "- You can checkout the [`langchain-opentutorial`](https://github.com/LangChain-OpenTutorial/langchain-opentutorial-pypi) for more details."
      ]
    },
    {
      "cell_type": "code",
      "execution_count": 1,
      "id": "21943adb",
      "metadata": {},
      "outputs": [],
      "source": [
        "%%capture --no-stderr\n",
        "!pip install langchain-opentutorial"
      ]
    },
    {
      "cell_type": "code",
      "execution_count": 2,
      "id": "f25ec196",
      "metadata": {},
      "outputs": [],
      "source": [
        "# Install required packages\n",
        "from langchain_opentutorial import package\n",
        "\n",
        "package.install(\n",
        "    [\"langchain_community\", \"langchain_openai\", \"langchain_core\", \"faiss-cpu\"],\n",
        "    verbose=False,\n",
        "    upgrade=False,\n",
        ")"
      ]
    },
    {
      "cell_type": "code",
      "execution_count": 3,
      "id": "7f9065ea",
      "metadata": {},
      "outputs": [
        {
          "name": "stdout",
          "output_type": "stream",
          "text": [
            "Environment variables have been set successfully.\n"
          ]
        }
      ],
      "source": [
        "# Set environment variables\n",
        "from langchain_opentutorial import set_env\n",
        "\n",
        "set_env(\n",
        "    {\n",
        "        \"OPENAI_API_KEY\": \"\",\n",
        "        \"LANGCHAIN_API_KEY\": \"\",\n",
        "        \"LANGCHAIN_TRACING_V2\": \"true\",\n",
        "        \"LANGCHAIN_ENDPOINT\": \"https://api.smith.langchain.com\",\n",
        "        \"LANGCHAIN_PROJECT\": \"VectorStoreRetrieverMemory\",\n",
        "    }\n",
        ")"
      ]
    },
    {
      "cell_type": "markdown",
      "id": "690a9ae0",
      "metadata": {},
      "source": [
        "You can alternatively set `OPENAI_API_KEY` in `.env` file and load it.\n",
        "\n",
        "[Note] This is not necessary if you've already set `OPENAI_API_KEY` in previous steps."
      ]
    },
    {
      "cell_type": "code",
      "execution_count": 4,
      "id": "4f99b5b6",
      "metadata": {},
      "outputs": [
        {
          "data": {
            "text/plain": [
              "True"
            ]
          },
          "execution_count": 4,
          "metadata": {},
          "output_type": "execute_result"
        }
      ],
      "source": [
        "from dotenv import load_dotenv\n",
        "\n",
        "load_dotenv()"
      ]
    },
    {
      "cell_type": "markdown",
      "id": "aa00c3f4",
      "metadata": {},
      "source": [
        "## Initialize Vector Store\n",
        "\n",
        "Next, we'll set up FAISS as our vector store. FAISS is an efficient similarity search library that will help us store and retrieve conversation embeddings:"
      ]
    },
    {
      "cell_type": "code",
      "execution_count": 5,
      "id": "69cb77da",
      "metadata": {},
      "outputs": [],
      "source": [
        "import faiss\n",
        "from langchain_openai.embeddings import OpenAIEmbeddings\n",
        "from langchain_community.docstore.in_memory import InMemoryDocstore\n",
        "from langchain_community.vectorstores.faiss import FAISS\n",
        "\n",
        "# Initialize OpenAI embeddings\n",
        "embeddings_model = OpenAIEmbeddings()\n",
        "\n",
        "# Create FAISS index\n",
        "embedding_size = 1536  # Size for OpenAI embeddings\n",
        "index = faiss.IndexFlatL2(embedding_size)\n",
        "vectorstore = FAISS(embeddings_model, index, InMemoryDocstore({}), {})"
      ]
    },
    {
      "cell_type": "markdown",
      "id": "e8be1e5e",
      "metadata": {},
      "source": [
        "This setup creates an in-memory vector store that will maintain our conversation embeddings for quick similarity searches."
      ]
    },
    {
      "cell_type": "markdown",
      "id": "6159d1bd",
      "metadata": {},
      "source": [
        "## Save Interview Conversations\n",
        "\n",
        "Now we'll create our memory system and populate it with example interview conversations:"
      ]
    },
    {
      "cell_type": "code",
      "execution_count": 6,
      "id": "223559c0",
      "metadata": {},
      "outputs": [
        {
          "name": "stderr",
          "output_type": "stream",
          "text": [
            "/var/folders/b5/3pdyzl995m5_37d6rr9vfbh00000gn/T/ipykernel_31365/1922969020.py:5: LangChainDeprecationWarning: Please see the migration guide at: https://python.langchain.com/docs/versions/migrating_memory/\n",
            "  memory = VectorStoreRetrieverMemory(retriever=retriever)\n"
          ]
        }
      ],
      "source": [
        "from langchain.memory import VectorStoreRetrieverMemory\n",
        "\n",
        "# This is to show that vector lookups still return semantically relevant information\n",
        "retriever = vectorstore.as_retriever(search_kwargs={\"k\": 1})\n",
        "memory = VectorStoreRetrieverMemory(retriever=retriever)\n",
        "\n",
        "# Save arbitrary conversations\n",
        "memory.save_context(\n",
        "    inputs={\n",
        "        \"human\": \"Hello, thank you for coming to the interview today. Please introduce yourself.\"\n",
        "    },\n",
        "    outputs={\n",
        "        \"ai\": \"Hello. I'm a junior developer who majored in Computer Science. In college, I mainly used Java and Python, and recently, I participated in a web development project where I gained experience developing services for real users.\"\n",
        "    },\n",
        ")\n",
        "memory.save_context(\n",
        "    inputs={\"human\": \"What was your role in the project?\"},\n",
        "    outputs={\n",
        "        \"ai\": \"My role was as a backend developer. I was responsible for processing user data and developing server logic, implementing RESTful APIs for communication with the frontend. I also participated in database design.\"\n",
        "    },\n",
        ")\n",
        "memory.save_context(\n",
        "    inputs={\n",
        "        \"human\": \"If you faced any difficulties in team projects, how did you resolve them?\"\n",
        "    },\n",
        "    outputs={\n",
        "        \"ai\": \"We had some communication issues at the beginning of the project. To resolve this, our team held regular meetings to share each person's progress. Also, when problems arose, we actively shared opinions and worked to find reasonable solutions.\"\n",
        "    },\n",
        ")\n",
        "memory.save_context(\n",
        "    inputs={\"human\": \"What do you consider your strengths as a developer?\"},\n",
        "    outputs={\n",
        "        \"ai\": \"My strengths are quick learning ability and problem-solving skills. I can quickly acquire new technologies and tools, and when faced with complex problems, I can propose creative solutions. Also, I value teamwork and consider collaboration with colleagues important.\"\n",
        "    },\n",
        ")"
      ]
    },
    {
      "cell_type": "markdown",
      "id": "f3709af7",
      "metadata": {},
      "source": [
        "We're using k=1 to retrieve just the most relevant conversation, but in real applications, you might want to increase this value to get more context."
      ]
    },
    {
      "cell_type": "markdown",
      "id": "d9273c9e",
      "metadata": {},
      "source": [
        "## Retrieving Relevant Conversations\n",
        "\n",
        "Let's see how the system retrieves relevant information based on queries:"
      ]
    },
    {
      "cell_type": "code",
      "execution_count": 7,
      "id": "d9e26edd",
      "metadata": {},
      "outputs": [
        {
          "name": "stdout",
          "output_type": "stream",
          "text": [
            "Query: What was the interviewee's major?\n",
            "human: Hello, thank you for coming to the interview today. Please introduce yourself.\n",
            "ai: Hello. I'm a junior developer who majored in Computer Science. In college, I mainly used Java and Python, and recently, I participated in a web development project where I gained experience developing services for real users.\n"
          ]
        }
      ],
      "source": [
        "# Query about education background\n",
        "print(\"Query: What was the interviewee's major?\")\n",
        "print(\n",
        "    memory.load_memory_variables({\"prompt\": \"What was the interviewee's major?\"})[\n",
        "        \"history\"\n",
        "    ]\n",
        ")"
      ]
    },
    {
      "cell_type": "code",
      "execution_count": 8,
      "id": "8f5ccd09",
      "metadata": {},
      "outputs": [
        {
          "name": "stdout",
          "output_type": "stream",
          "text": [
            "Query: What was the interviewee's role in the project?\n",
            "human: What was your role in the project?\n",
            "ai: My role was as a backend developer. I was responsible for processing user data and developing server logic, implementing RESTful APIs for communication with the frontend. I also participated in database design.\n"
          ]
        }
      ],
      "source": [
        "# Query about project experience\n",
        "print(\"Query: What was the interviewee's role in the project?\")\n",
        "print(\n",
        "    memory.load_memory_variables(\n",
        "        {\"human\": \"What was the interviewee's role in the project?\"}\n",
        "    )[\"history\"]\n",
        ")"
      ]
    },
    {
      "cell_type": "markdown",
      "id": "ef4422fb",
      "metadata": {},
      "source": [
        "This approach is particularly valuable when building systems that need to reference past conversations contextually, such as in customer service bots, educational assistants, or any application where maintaining context-aware conversation history is important."
      ]
    }
  ],
  "metadata": {
    "kernelspec": {
      "display_name": "langchain-opentutorial-ZA2wmMtu-py3.11",
      "language": "python",
      "name": "python3"
    },
    "language_info": {
      "codemirror_mode": {
        "name": "ipython",
        "version": 3
      },
      "file_extension": ".py",
      "mimetype": "text/x-python",
      "name": "python",
      "nbconvert_exporter": "python",
      "pygments_lexer": "ipython3",
      "version": "3.11.11"
    }
  },
  "nbformat": 4,
  "nbformat_minor": 5
}