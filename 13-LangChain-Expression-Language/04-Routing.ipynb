{
  "cells": [
    {
      "cell_type": "markdown",
      "metadata": {},
      "source": [
        "# Routing\n",
        "\n",
        "- Author: [Jinu Cho](https://github.com/jinucho)\n",
        "- Peer Review: \n",
        "- Proofread:\n",
        "- This is a part of [LangChain Open Tutorial](https://github.com/LangChain-OpenTutorial/LangChain-OpenTutorial)\n",
        "\n",
        "[![Open in Colab](https://colab.research.google.com/assets/colab-badge.svg)](https://colab.research.google.com/github/LangChain-OpenTutorial/LangChain-OpenTutorial/blob/main/05-Memory/06-ConversationSummaryMemory.ipynb) [![Open in GitHub](https://img.shields.io/badge/Open%20in%20GitHub-181717?style=flat-square&logo=github&logoColor=white)](https://github.com/LangChain-OpenTutorial/LangChain-OpenTutorial/blob/main/05-Memory/06-ConversationSummaryMemory.ipynb)\n",
        "\n",
        "## Overview\n",
        "\n",
        "This tutorial introduces two key tools in LangChain: `RunnableBranch` and `RunnableLambda` , essential for managing dynamic workflows and conditional logic.  \n",
        "\n",
        "`RunnableBranch` enables structured decision-making by routing input through predefined conditions, simplifying complex branching scenarios.  \n",
        "\n",
        "`RunnableLambda` offers a flexible, function-based approach, ideal for lightweight transformations and inline processing.  \n",
        "\n",
        "Through detailed explanations, practical examples, and comparisons, you'll gain clarity on when and how to use each tool effectively.  \n",
        "\n",
        "### Table of Contents\n",
        "\n",
        "- [Overview](#overview)\n",
        "- [Environment Setup](#environment-setup)\n",
        "- [What is the RunnableBranch](#what-is-the-runnablebranch)\n",
        "- [RunnableLambda](#RunnableLambda)\n",
        "- [RunnableBranch](#RunnableBranch)\n",
        "- [Comparison of RunnableBranch and RunnableLambda](#comparison-of-runnablebranch-and-runnablelambda)\n",
        "\n",
        "\n",
        "### References  \n",
        "- [RunnableBranch API Reference](https://python.langchain.com/api_reference/core/runnables/langchain_core.runnables.branch.RunnableBranch.html)  \n",
        "- [RunnableLambda API Reference](https://python.langchain.com/api_reference/core/runnables/langchain_core.runnables.base.RunnableLambda.html)  \n",
        "---"
      ]
    },
    {
      "cell_type": "markdown",
      "metadata": {},
      "source": [
        "## Environment Setup\n",
        "\n",
        "Set up the environment. You may refer to [Environment Setup](https://wikidocs.net/257836) for more details.\n",
        "\n",
        "[Note]\n",
        "- `langchain-opentutorial` is a package that provides a set of easy-to-use environment setup, useful functions and utilities for tutorials. \n",
        "- You can checkout the [`langchain-opentutorial`](https://github.com/LangChain-OpenTutorial/langchain-opentutorial-pypi) for more details."
      ]
    },
    {
      "cell_type": "code",
      "execution_count": 1,
      "metadata": {},
      "outputs": [],
      "source": [
        "%%capture --no-stderr\n",
        "%pip install langchain-opentutorial"
      ]
    },
    {
      "cell_type": "code",
      "execution_count": 2,
      "metadata": {},
      "outputs": [
        {
          "name": "stderr",
          "output_type": "stream",
          "text": [
            "\n",
            "\u001b[1m[\u001b[0m\u001b[34;49mnotice\u001b[0m\u001b[1;39;49m]\u001b[0m\u001b[39;49m A new release of pip is available: \u001b[0m\u001b[31;49m24.0\u001b[0m\u001b[39;49m -> \u001b[0m\u001b[32;49m24.3.1\u001b[0m\n",
            "\u001b[1m[\u001b[0m\u001b[34;49mnotice\u001b[0m\u001b[1;39;49m]\u001b[0m\u001b[39;49m To update, run: \u001b[0m\u001b[32;49mpip install --upgrade pip\u001b[0m\n"
          ]
        }
      ],
      "source": [
        "# Install required packages\n",
        "from langchain_opentutorial import package\n",
        "\n",
        "package.install(\n",
        "    [\n",
        "        \"langsmith\",\n",
        "        \"langchain\",\n",
        "        \"langchain_openai\",\n",
        "    ],\n",
        "    verbose=False,\n",
        "    upgrade=False,\n",
        ")"
      ]
    },
    {
      "cell_type": "markdown",
      "metadata": {},
      "source": [
        "You can alternatively set `OPENAI_API_KEY` in `.env` file and load it. \n",
        "\n",
        "[Note] This is not necessary if you've already set `OPENAI_API_KEY` in previous steps."
      ]
    },
    {
      "cell_type": "code",
      "execution_count": 3,
      "metadata": {},
      "outputs": [
        {
          "name": "stdout",
          "output_type": "stream",
          "text": [
            "Environment variables have been set successfully.\n"
          ]
        }
      ],
      "source": [
        "# Set environment variables\n",
        "from langchain_opentutorial import set_env\n",
        "\n",
        "set_env(\n",
        "    {\n",
        "        \"OPENAI_API_KEY\": \"\",\n",
        "        \"LANGCHAIN_API_KEY\": \"\",\n",
        "        \"LANGCHAIN_TRACING_V2\": \"true\",\n",
        "        \"LANGCHAIN_ENDPOINT\": \"https://api.smith.langchain.com\",\n",
        "        \"LANGCHAIN_PROJECT\": \"04-Routing\",\n",
        "    }\n",
        ")"
      ]
    },
    {
      "cell_type": "code",
      "execution_count": 4,
      "metadata": {},
      "outputs": [
        {
          "data": {
            "text/plain": [
              "True"
            ]
          },
          "execution_count": 4,
          "metadata": {},
          "output_type": "execute_result"
        }
      ],
      "source": [
        "# Load environment variables\n",
        "# Reload any variables that need to be overwritten from the previous cell\n",
        "\n",
        "from dotenv import load_dotenv\n",
        "\n",
        "load_dotenv(override=True)"
      ]
    },
    {
      "cell_type": "markdown",
      "metadata": {},
      "source": [
        "## What is the RunnableBranch\n",
        "\n",
        "`RunnableBranch` is a powerful tool that allows dynamic routing of logic based on input. It enables developers to flexibly define different processing paths depending on the characteristics of the input data.  \n",
        "\n",
        "`RunnableBranch` helps implement complex decision trees in a simple and intuitive way. This greatly improves code readability and maintainability while promoting logic modularization and reusability.  \n",
        "\n",
        "Additionally, `RunnableBranch` can dynamically evaluate branching conditions at runtime and select the appropriate processing routine, enhancing the system's adaptability and scalability.  \n",
        "\n",
        "Due to these features, `RunnableBranch` can be applied across various domains and is particularly useful for developing applications with high input data variability and volatility.\n",
        "\n",
        "By effectively utilizing `RunnableBranch`, developers can reduce code complexity and improve system flexibility and performance.\n",
        "\n",
        "### Dynamic Logic Routing Based on Input\n",
        "\n",
        "This section covers how to perform routing in LangChain Expression Language.\n",
        "\n",
        "Routing allows you to create non-deterministic chains where the output of a previous step defines the next step. This helps bring structure and consistency to interactions with LLMs.\n",
        "\n",
        "There are two primary methods for performing routing:\n",
        "\n",
        "1. Returning a Conditionally Executable Object from `RunnableLambda` (*Recommended*)  \n",
        "2. Using `RunnableBranch`\n",
        "\n",
        "Both methods can be explained using a two-step sequence, where the first step classifies the input question as related to math, science, or other, and the second step routes it to the corresponding prompt chain."
      ]
    },
    {
      "cell_type": "markdown",
      "metadata": {},
      "source": [
        "### Simple Example\n",
        "\n",
        "First, we will create a Chain that classifies incoming questions into one of three categories: math, science, or other."
      ]
    },
    {
      "cell_type": "code",
      "execution_count": 5,
      "metadata": {},
      "outputs": [],
      "source": [
        "from langchain_openai import ChatOpenAI\n",
        "from langchain_core.output_parsers import StrOutputParser\n",
        "from langchain_core.prompts import PromptTemplate\n",
        "\n",
        "prompt = PromptTemplate.from_template(\n",
        "    \"\"\"Classify the given user question into one of `math`, `science`, or `other`. Do not respond with more than one word.\n",
        "\n",
        "<question>\n",
        "{question}\n",
        "</question>\n",
        "\n",
        "Classification:\"\"\"\n",
        ")\n",
        "\n",
        "# Create the chain.\n",
        "chain = (\n",
        "    prompt\n",
        "    | ChatOpenAI(model=\"gpt-4o-mini\")\n",
        "    | StrOutputParser()  # Use a string output parser.\n",
        ")"
      ]
    },
    {
      "cell_type": "markdown",
      "metadata": {},
      "source": [
        "Use the created chain to classify the question."
      ]
    },
    {
      "cell_type": "code",
      "execution_count": 6,
      "metadata": {},
      "outputs": [
        {
          "data": {
            "text/plain": [
              "'math'"
            ]
          },
          "execution_count": 6,
          "metadata": {},
          "output_type": "execute_result"
        }
      ],
      "source": [
        "# Invoke the chain with a question.\n",
        "chain.invoke({\"question\": \"What is 2+2?\"})"
      ]
    },
    {
      "cell_type": "code",
      "execution_count": 7,
      "metadata": {},
      "outputs": [
        {
          "data": {
            "text/plain": [
              "'science'"
            ]
          },
          "execution_count": 7,
          "metadata": {},
          "output_type": "execute_result"
        }
      ],
      "source": [
        "# Invoke the chain with a question.\n",
        "chain.invoke({\"question\": \"What is the law of action and reaction?\"})"
      ]
    },
    {
      "cell_type": "code",
      "execution_count": 8,
      "metadata": {},
      "outputs": [
        {
          "data": {
            "text/plain": [
              "'other'"
            ]
          },
          "execution_count": 8,
          "metadata": {},
          "output_type": "execute_result"
        }
      ],
      "source": [
        "# Invoke the chain with a question.\n",
        "chain.invoke({\"question\": \"What is LangChain?\"})"
      ]
    },
    {
      "cell_type": "markdown",
      "metadata": {},
      "source": [
        "## RunnableLambda  \n",
        "\n",
        "`RunnableLambda` is a type of `Runnable` designed to simplify the execution of a single transformation or operation using a lambda (anonymous) function. \n",
        "\n",
        "It is primarily used for lightweight, stateless operations where defining an entire custom `Runnable` class would be overkill.  \n",
        "\n",
        "Unlike `RunnableBranch`, which focuses on conditional branching logic, `RunnableLambda` excels in straightforward data transformations or function applications.\n",
        "\n",
        "Syntax  \n",
        "- `RunnableLambda` is initialized with a single lambda function or callable object.  \n",
        "- When invoked, the input value is passed directly to the lambda function.  \n",
        "- The lambda function processes the input and returns the result.  "
      ]
    },
    {
      "cell_type": "markdown",
      "metadata": {},
      "source": [
        "Now, let's create three sub-chains."
      ]
    },
    {
      "cell_type": "code",
      "execution_count": 9,
      "metadata": {},
      "outputs": [],
      "source": [
        "math_chain = (\n",
        "    PromptTemplate.from_template(\n",
        "        \"\"\"You are an expert in math. \\\n",
        "Always answer questions starting with \"Pythagoras once said...\". \\\n",
        "Respond to the following question:\n",
        "\n",
        "Question: {question}\n",
        "Answer:\"\"\"\n",
        "    )\n",
        "    | ChatOpenAI(model=\"gpt-4o-mini\")\n",
        ")\n",
        "\n",
        "science_chain = (\n",
        "    PromptTemplate.from_template(\n",
        "        \"\"\"You are an expert in science. \\\n",
        "Always answer questions starting with \"Isaac Newton once said...\". \\\n",
        "Respond to the following question:\n",
        "\n",
        "Question: {question}\n",
        "Answer:\"\"\"\n",
        "    )\n",
        "    | ChatOpenAI(model=\"gpt-4o-mini\")\n",
        ")\n",
        "\n",
        "general_chain = (\n",
        "    PromptTemplate.from_template(\n",
        "        \"\"\"Respond to the following question concisely:\n",
        "\n",
        "Question: {question}\n",
        "Answer:\"\"\"\n",
        "    )\n",
        "    | ChatOpenAI(model=\"gpt-4o-mini\")\n",
        ")"
      ]
    },
    {
      "cell_type": "markdown",
      "metadata": {},
      "source": [
        "### Using Custom Functions  \n",
        "\n",
        "This is the recommended approach in the official LangChain documentation. You can wrap custom functions with `RunnableLambda` to handle routing between different outputs."
      ]
    },
    {
      "cell_type": "code",
      "execution_count": 10,
      "metadata": {},
      "outputs": [],
      "source": [
        "# Return each chain based on the contents included in the topic.\n",
        "\n",
        "\n",
        "def route(info):\n",
        "    if \"math\" in info[\"topic\"].lower():\n",
        "        return math_chain\n",
        "    elif \"science\" in info[\"topic\"].lower():\n",
        "        return science_chain\n",
        "    else:\n",
        "        return general_chain"
      ]
    },
    {
      "cell_type": "code",
      "execution_count": 11,
      "metadata": {},
      "outputs": [],
      "source": [
        "from operator import itemgetter\n",
        "from langchain_core.runnables import RunnableLambda\n",
        "\n",
        "full_chain = (\n",
        "    {\"topic\": chain, \"question\": itemgetter(\"question\")}\n",
        "    | RunnableLambda(\n",
        "        # Pass the routing function as an argument.\n",
        "        route\n",
        "    )\n",
        "    | StrOutputParser()\n",
        ")"
      ]
    },
    {
      "cell_type": "code",
      "execution_count": 12,
      "metadata": {},
      "outputs": [
        {
          "data": {
            "text/plain": [
              "'Pythagoras once said, \"Mathematics is the language in which God has written the universe.\" In this spirit, calculus is a branch of mathematics that deals with the concepts of change and motion. It is divided into two main areas: differential calculus, which focuses on the rate of change of quantities (derivatives), and integral calculus, which concerns the accumulation of quantities (integrals). \\n\\nCalculus allows us to understand and describe the behavior of functions, enabling us to determine slopes of curves, areas under curves, and solve problems involving dynamic systems. Its principles are foundational in various fields, including physics, engineering, economics, and biology, making it a vital tool for analyzing and modeling real-world phenomena.'"
            ]
          },
          "execution_count": 12,
          "metadata": {},
          "output_type": "execute_result"
        }
      ],
      "source": [
        "# Invoke the chain with a math-related question.\n",
        "full_chain.invoke({\"question\": \"Please explain the concept of calculus.\"})"
      ]
    },
    {
      "cell_type": "code",
      "execution_count": 13,
      "metadata": {},
      "outputs": [
        {
          "data": {
            "text/plain": [
              "'Isaac Newton once said, \"What goes up must come down,\" which reflects the essence of gravitational forces. Gravitational acceleration can be calculated using the formula \\\\( g = \\\\frac{F}{m} \\\\), where \\\\( g \\\\) is the acceleration due to gravity, \\\\( F \\\\) is the force acting on an object, and \\\\( m \\\\) is the mass of that object. Near the Earth\\'s surface, this acceleration is approximately \\\\( 9.81 \\\\, \\\\text{m/s}^2 \\\\), and it can also be derived from Newton\\'s law of universal gravitation, which states that \\\\( F = \\\\frac{G \\\\cdot m_1 \\\\cdot m_2}{r^2} \\\\), where \\\\( G \\\\) is the gravitational constant, \\\\( m_1 \\\\) and \\\\( m_2 \\\\) are the masses of the two objects, and \\\\( r \\\\) is the distance between their centers. By rearranging this equation, we can express gravitational acceleration as \\\\( g = \\\\frac{G \\\\cdot M}{r^2} \\\\), where \\\\( M \\\\) is the mass of the Earth and \\\\( r \\\\) is the distance from the center of the Earth to the object.'"
            ]
          },
          "execution_count": 13,
          "metadata": {},
          "output_type": "execute_result"
        }
      ],
      "source": [
        "# Invoke the chain with a science-related question.\n",
        "full_chain.invoke({\"question\": \"How is gravitational acceleration calculated?\"})"
      ]
    },
    {
      "cell_type": "code",
      "execution_count": 14,
      "metadata": {},
      "outputs": [
        {
          "data": {
            "text/plain": [
              "'RAG (Retrieval-Augmented Generation) is a machine learning approach that combines retrieval of relevant documents from a knowledge base with generative models to produce more informed and contextually accurate responses. It enhances the generation process by retrieving pertinent information, which can help improve the quality and relevance of the output in tasks like question answering and dialogue.'"
            ]
          },
          "execution_count": 14,
          "metadata": {},
          "output_type": "execute_result"
        }
      ],
      "source": [
        "# Invoke the chain with a general question.\n",
        "full_chain.invoke({\"question\": \"What is RAG (Retrieval Augmented Generation)?\"})"
      ]
    },
    {
      "cell_type": "markdown",
      "metadata": {},
      "source": [
        "## RunnableBranch\n",
        "\n",
        "`RunnableBranch` is a special type of `Runnable` that allows you to define conditions and corresponding Runnable objects based on input values.\n",
        "\n",
        "However, it does not provide functionality that cannot be achieved with custom functions, so using custom functions is generally recommended.\n",
        "\n",
        "Syntax\n",
        "\n",
        "- `RunnableBranch` is initialized with a list of (condition, Runnable) pairs and a default Runnable.\n",
        "- When invoked, the input value is passed to each condition sequentially.\n",
        "- The first condition that evaluates to True is selected, and the corresponding Runnable is executed with the input value.\n",
        "- If no condition matches, the `default Runnable` is executed."
      ]
    },
    {
      "cell_type": "code",
      "execution_count": 15,
      "metadata": {},
      "outputs": [],
      "source": [
        "from operator import itemgetter\n",
        "from langchain_core.runnables import RunnableBranch\n",
        "\n",
        "branch = RunnableBranch(\n",
        "    # Check if the topic contains \"math\" and execute math_chain if true.\n",
        "    (lambda x: \"math\" in x[\"topic\"].lower(), math_chain),\n",
        "    # Check if the topic contains \"science\" and execute science_chain if true.\n",
        "    (lambda x: \"science\" in x[\"topic\"].lower(), science_chain),\n",
        "    # If none of the above conditions match, execute general_chain.\n",
        "    general_chain,\n",
        ")\n",
        "\n",
        "# Define the full chain that takes a topic and question, routes it, and parses the output.\n",
        "full_chain = (\n",
        "    {\"topic\": chain, \"question\": itemgetter(\"question\")} | branch | StrOutputParser()\n",
        ")"
      ]
    },
    {
      "cell_type": "markdown",
      "metadata": {},
      "source": [
        "Execute the full chain with each question."
      ]
    },
    {
      "cell_type": "code",
      "execution_count": 16,
      "metadata": {},
      "outputs": [
        {
          "data": {
            "text/plain": [
              "'Pythagoras once said that understanding the world requires a deep appreciation of its underlying patterns and changes. Calculus is a branch of mathematics that focuses on the study of change and motion, providing tools to analyze how quantities vary with one another. It is primarily divided into two main areas: differential calculus, which deals with the concept of the derivative and the rate of change, and integral calculus, which concerns the accumulation of quantities and the area under curves.\\n\\nBy exploring these concepts, calculus allows us to model and solve problems in physics, engineering, economics, and beyond, illustrating how we can understand and predict the behavior of dynamic systems in our universe.'"
            ]
          },
          "execution_count": 16,
          "metadata": {},
          "output_type": "execute_result"
        }
      ],
      "source": [
        "full_chain.invoke({\"question\": \"Please explain the concept of calculus.\"})"
      ]
    },
    {
      "cell_type": "code",
      "execution_count": 17,
      "metadata": {},
      "outputs": [
        {
          "data": {
            "text/plain": [
              "'Isaac Newton once said, \"What goes up must come down,\" which reflects the fundamental principle of gravity. Gravitational acceleration, denoted as \\\\( g \\\\), is calculated using the formula:\\n\\n\\\\[\\ng = \\\\frac{G \\\\cdot M}{r^2}\\n\\\\]\\n\\nwhere \\\\( G \\\\) is the universal gravitational constant (\\\\( 6.674 \\\\times 10^{-11} \\\\, \\\\text{m}^3\\\\text{kg}^{-1}\\\\text{s}^{-2} \\\\)), \\\\( M \\\\) is the mass of the object exerting the gravitational force (such as the Earth), and \\\\( r \\\\) is the distance from the center of the mass to the point where the acceleration is being measured. Near the surface of the Earth, \\\\( g \\\\) is approximately \\\\( 9.81 \\\\, \\\\text{m/s}^2 \\\\). This equation illustrates how gravitational acceleration is influenced by both mass and distance, embodying the laws of motion and universal gravitation that Newton famously formulated.'"
            ]
          },
          "execution_count": 17,
          "metadata": {},
          "output_type": "execute_result"
        }
      ],
      "source": [
        "full_chain.invoke({\"question\": \"How is gravitational acceleration calculated?\"})"
      ]
    },
    {
      "cell_type": "code",
      "execution_count": 18,
      "metadata": {},
      "outputs": [
        {
          "data": {
            "text/plain": [
              "'Retrieval Augmented Generation (RAG) is a natural language processing technique that combines retrieval-based and generation-based approaches. It enhances a generative model by incorporating relevant information from a retrieval system, allowing the model to generate more accurate and contextually appropriate responses by accessing external knowledge sources during the generation process.'"
            ]
          },
          "execution_count": 18,
          "metadata": {},
          "output_type": "execute_result"
        }
      ],
      "source": [
        "full_chain.invoke({\"question\": \"What is RAG (Retrieval Augmented Generation)?\"})"
      ]
    },
    {
      "cell_type": "markdown",
      "metadata": {},
      "source": [
        "## Comparison of RunnableBranch and RunnableLambda\n",
        "\n",
        "| Criteria    | RunnableLambda                               | RunnableBranch                        |  \n",
        "|------------------|--------------------------------------------------|-------------------------------------------|  \n",
        "| Condition Definition | All conditions are defined within a single function (`route`) | Each condition is defined as a `(condition, runnable)` pair |  \n",
        "| Readability | Very clear for simple logic                      | Becomes clearer as conditions increase    |  \n",
        "| Maintainability | Can become complex if the function grows large  | Clear separation between conditions and runnables |  \n",
        "| Flexibility | Allows more flexible condition writing           | Must follow the `(condition, runnable)` pattern |  \n",
        "| Scalability | Expandable by modifying the function             | Requires adding new conditions and runnables |  \n",
        "| Recommended Use Case | When conditions are relatively simple or function-based | When there are many conditions or maintainability is a priority |  "
      ]
    }
  ],
  "metadata": {
    "kernelspec": {
      "display_name": "3.11.11",
      "language": "python",
      "name": "python3"
    },
    "language_info": {
      "codemirror_mode": {
        "name": "ipython",
        "version": 3
      },
      "file_extension": ".py",
      "mimetype": "text/x-python",
      "name": "python",
      "nbconvert_exporter": "python",
      "pygments_lexer": "ipython3",
      "version": "3.11.11"
    }
  },
  "nbformat": 4,
  "nbformat_minor": 2
}
