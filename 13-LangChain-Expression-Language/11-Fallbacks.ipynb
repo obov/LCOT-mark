{
 "cells": [
  {
   "cell_type": "markdown",
   "id": "672ed4f9",
   "metadata": {},
   "source": [
    "# Fallbacks\n",
    "\n",
    "- Author: [Haseom Shin](https://github.com/IHAGI-c)\n",
    "- Design: []()\n",
    "- Peer Review: []()\n",
    "- This is a part of [LangChain Open Tutorial](https://github.com/LangChain-OpenTutorial/LangChain-OpenTutorial)\n",
    "\n",
    "[![Open in Colab](https://colab.research.google.com/assets/colab-badge.svg)](https://colab.research.google.com/github/LangChain-OpenTutorial/LangChain-OpenTutorial/blob/main/13-LangChain-Expression-Language/11-Fallbacks.ipynb) [![Open in GitHub](https://img.shields.io/badge/Open%20in%20GitHub-181717?style=flat-square&logo=github&logoColor=white)](https://github.com/LangChain-OpenTutorial/LangChain-OpenTutorial/blob/main/13-LangChain-Expression-Language/11-Fallbacks.ipynb)\n",
    "\n",
    "## Overview\n",
    "\n",
    "This tutorial covers how to implement fallback mechanisms in LangChain applications to handle various types of failures and errors gracefully.\n",
    "\n",
    "`Fallbacks` are crucial for building robust LLM applications that can handle API errors, rate limits, and other potential failures without disrupting the user experience.\n",
    "\n",
    "In this tutorial, we will explore different fallback strategies and implement practical examples using multiple LLM providers.\n",
    "\n",
    "### Table of Contents\n",
    "\n",
    "- [Overview](#overview)\n",
    "- [Environment Setup](#environment-setup)\n",
    "- [What is Fallbacks?](#what-is-fallbacks)\n",
    "- [How to Handle LLM API Errors](#how-to-handle-llm-api-errors)\n",
    "- [Introduction to Rate Limit Testing](#introduction-to-rate-limit-testing)\n",
    "- [Why Handle Rate Limit Errors?](#why-handle-rate-limit-errors)\n",
    "- [Benefits of Mock Testing](#benefits-of-mock-testing)\n",
    "- [Setting up LLM Fallback Configuration](#setting-up-llm-fallback-configuration)\n",
    "- [Testing API Rate Limits with Fallback Models](#testing-api-rate-limits-with-fallback-models)\n",
    "- [If you specify an error that needs to be handled](#if-you-specify-an-error-that-needs-to-be-handled)\n",
    "- [Specifying multiple models in fallback sequentially](#specifying-multiple-models-in-fallback-sequentially)\n",
    "- [Using Different Prompt Templates for Each Model](#using-different-prompt-templates-for-each-model)\n",
    "- [Automatic Model Switching Based on Context Length](#automatic-model-switching-based-on-context-length)\n",
    "\n",
    "\n",
    "### Key Concepts\n",
    "\n",
    "1. **Fundamentals of Fallbacks**\n",
    "   - Core concepts of fallback mechanisms\n",
    "   - Setting up basic fallback configurations\n",
    "   - Understanding error handling patterns\n",
    "   - Implementation of simple fallback chains\n",
    "\n",
    "2. **API Error Management**\n",
    "   - Handling rate limit errors effectively\n",
    "   - Managing API downtime scenarios\n",
    "   - Implementing retry strategies\n",
    "   - Simulating errors through mock testing\n",
    "\n",
    "3. **Advanced Fallback Patterns**\n",
    "   - Configuring multiple fallback models\n",
    "   - Custom exception handling setup\n",
    "   - Sequential fallback execution\n",
    "   - Context-aware model switching\n",
    "   - Model-specific prompt templating\n",
    "\n",
    "4. **Practical Implementation**\n",
    "   - Integration with OpenAI and Anthropic models\n",
    "   - Building resilient chains with fallbacks\n",
    "   - Real-world usage patterns and best practices\n",
    "   - Performance optimization techniques\n",
    "\n",
    "### References\n",
    "\n",
    "- [LangChain Expression Language Documentation](https://python.langchain.com/docs/expression_language/)\n",
    "- [OpenAI Rate Limits](https://platform.openai.com/docs/guides/rate-limits)\n",
    "- [Anthropic API Documentation](https://docs.anthropic.com/claude/reference/errors)\n",
    "- [LangChain Fallbacks Guide](https://python.langchain.com/docs/how_to/fallbacks/)\n",
    "---"
   ]
  },
  {
   "cell_type": "markdown",
   "id": "cf547a6c",
   "metadata": {},
   "source": [
    "## Environment Setup\n",
    "\n",
    "Set up the environment. You may refer to [Environment Setup](https://wikidocs.net/257836) for more details.\n",
    "\n",
    "**[Note]**\n",
    "- `langchain-opentutorial` is a package that provides a set of easy-to-use environment setup, useful functions and utilities for tutorials. \n",
    "- You can checkout the [`langchain-opentutorial`](https://github.com/LangChain-OpenTutorial/langchain-opentutorial-pypi) for more details."
   ]
  },
  {
   "cell_type": "code",
   "execution_count": 1,
   "id": "dce4e916",
   "metadata": {},
   "outputs": [],
   "source": [
    "%%capture --no-stderr\n",
    "%pip install langchain-opentutorial"
   ]
  },
  {
   "cell_type": "code",
   "execution_count": 2,
   "id": "466fcf76",
   "metadata": {},
   "outputs": [
    {
     "name": "stderr",
     "output_type": "stream",
     "text": [
      "\n",
      "\u001b[1m[\u001b[0m\u001b[34;49mnotice\u001b[0m\u001b[1;39;49m]\u001b[0m\u001b[39;49m A new release of pip is available: \u001b[0m\u001b[31;49m24.2\u001b[0m\u001b[39;49m -> \u001b[0m\u001b[32;49m24.3.1\u001b[0m\n",
      "\u001b[1m[\u001b[0m\u001b[34;49mnotice\u001b[0m\u001b[1;39;49m]\u001b[0m\u001b[39;49m To update, run: \u001b[0m\u001b[32;49mpip install --upgrade pip\u001b[0m\n"
     ]
    }
   ],
   "source": [
    "# Install required packages\n",
    "from langchain_opentutorial import package\n",
    "\n",
    "package.install(\n",
    "    [\n",
    "        \"langsmith\",\n",
    "        \"langchain_core\",\n",
    "        \"langchain_openai\",\n",
    "        \"langchain_anthropic\",\n",
    "    ],\n",
    "    verbose=False,\n",
    "    upgrade=False,\n",
    ")"
   ]
  },
  {
   "cell_type": "code",
   "execution_count": 3,
   "id": "b017eca4",
   "metadata": {},
   "outputs": [
    {
     "name": "stdout",
     "output_type": "stream",
     "text": [
      "Environment variables have been set successfully.\n"
     ]
    }
   ],
   "source": [
    "# Set environment variables\n",
    "from langchain_opentutorial import set_env\n",
    "\n",
    "set_env(\n",
    "    {\n",
    "        \"OPENAI_API_KEY\": \"\",\n",
    "        \"ANTHROPIC_API_KEY\": \"\",\n",
    "        \"LANGCHAIN_API_KEY\": \"\",\n",
    "        \"LANGCHAIN_TRACING_V2\": \"true\",\n",
    "        \"LANGCHAIN_ENDPOINT\": \"https://api.smith.langchain.com\",\n",
    "        \"LANGCHAIN_PROJECT\": \"Fallbacks\",\n",
    "    }\n",
    ")"
   ]
  },
  {
   "cell_type": "markdown",
   "id": "e2c75932",
   "metadata": {},
   "source": [
    "You can alternatively set `OPENAI_API_KEY` in `.env` file and load it. \n",
    "\n",
    "[Note] This is not necessary if you've already set `OPENAI_API_KEY` in previous steps."
   ]
  },
  {
   "cell_type": "code",
   "execution_count": 4,
   "id": "d9fdeafb",
   "metadata": {},
   "outputs": [
    {
     "data": {
      "text/plain": [
       "True"
      ]
     },
     "execution_count": 4,
     "metadata": {},
     "output_type": "execute_result"
    }
   ],
   "source": [
    "from dotenv import load_dotenv\n",
    "\n",
    "load_dotenv(override=True)"
   ]
  },
  {
   "cell_type": "markdown",
   "id": "43c96ba4",
   "metadata": {},
   "source": [
    "## What is Fallbacks?\n",
    "\n",
    "In LLM applications, there are various errors or failures such as LLM API issues, degradation in model output quality, and other integration-related issues. The `fallback` feature can be utilized to gracefully handle and isolate these problems.\n",
    "\n",
    "Importantly, fallbacks can be applied not only at the LLM level but also at the entire executable level."
   ]
  },
  {
   "cell_type": "markdown",
   "id": "d66ad995",
   "metadata": {},
   "source": [
    "## How to Handle LLM API Errors\n",
    "\n",
    "Handling LLM API errors is one of the most common use cases for using `fallbacks`.\n",
    "\n",
    "Requests to the LLM API can fail for various reasons. The API might be down, you might have reached a rate limit, or there could be several other issues. Using `fallbacks` can help protect against these types of problems.\n",
    "\n",
    "**Important**: By default, many LLM wrappers capture errors and retry. When using `fallbacks`, it is advisable to disable this default behavior. Otherwise, the first wrapper will keep retrying and not fail."
   ]
  },
  {
   "cell_type": "markdown",
   "id": "0feba5a7",
   "metadata": {},
   "source": [
    "## Introduction to Rate Limit Testing\n",
    "\n",
    "First, let's perform a mock test for the `RateLimitError` that can occur with OpenAI. A `RateLimitError` is **an error that occurs when you exceed the API usage limits** of the OpenAI API.\n",
    "\n",
    "## Why Handle Rate Limit Errors?\n",
    "\n",
    "When this error occurs, API requests are restricted for a certain period, so applications need to handle this situation appropriately. Through mock testing, we can verify how the application behaves when a `RateLimitError` occurs and check the error handling logic.\n",
    "\n",
    "## Benefits of Mock Testing\n",
    "\n",
    "This allows us to prevent potential issues that could arise in production environments and ensure stable service delivery."
   ]
  },
  {
   "cell_type": "code",
   "execution_count": 5,
   "id": "99dbb4ba",
   "metadata": {},
   "outputs": [],
   "source": [
    "from openai import RateLimitError\n",
    "from unittest.mock import patch\n",
    "import httpx\n",
    "\n",
    "request = httpx.Request(\"GET\", \"/\")\n",
    "response = httpx.Response(\n",
    "    200, request=request\n",
    ")  # Generate a response with a 200 status code.\n",
    "\n",
    "# Generate a RateLimitError with the message ‘rate limit’, the response, and an empty body.\n",
    "error = RateLimitError(\"rate limit\", response=response, body=\"\")"
   ]
  },
  {
   "cell_type": "markdown",
   "id": "18d67bd7",
   "metadata": {},
   "source": [
    "## Setting up LLM Fallback Configuration\n",
    "\n",
    "Create a `ChatOpenAI` object and assign it to the `openai_llm` variable, setting the `max_retries` parameter to 0 to **prevent retry attempts** that might occur due to API call limits or restrictions.\n",
    "\n",
    "Using the `with_fallbacks` method, configure `anthropic_llm` as the `fallback` LLM and assign this configuration to the `llm` variable.\n"
   ]
  },
  {
   "cell_type": "code",
   "execution_count": 6,
   "id": "482ae9d6",
   "metadata": {},
   "outputs": [],
   "source": [
    "from langchain_anthropic.chat_models import ChatAnthropic\n",
    "from langchain_openai.chat_models.base import ChatOpenAI\n",
    "\n",
    "# Create an openai_llm object using OpenAI's ChatOpenAI model.\n",
    "# Set max_retries to 0 to prevent retries due to rate limits, etc.\n",
    "openai_llm = ChatOpenAI(max_retries=0)\n",
    "\n",
    "# Create an anthropic_llm object using Anthropic's ChatAnthropic model.\n",
    "anthropic_llm = ChatAnthropic(model=\"claude-3-opus-20240229\")\n",
    "\n",
    "# use openai_llm as default, and anthropic_llm as fallback on failure.\n",
    "llm = openai_llm.with_fallbacks([anthropic_llm])"
   ]
  },
  {
   "cell_type": "markdown",
   "id": "07773632",
   "metadata": {},
   "source": [
    "## Testing API Rate Limits with Fallback Models\n",
    "\n",
    "In this example, we'll simulate OpenAI API rate limits and test how the system behaves when encountering API cost limitation errors.\n",
    "\n",
    "You'll see that when the OpenAI GPT model encounters an error, the fallback model (Anthropic) successfully takes over and performs the inference instead.\n",
    "\n",
    "When a fallback model is configured using `with_fallbacks()` and successfully executes, the `RateLimitError` won't be raised, ensuring continuous operation of your application.\n",
    "\n",
    "> 💡 This demonstrates how LangChain's fallback mechanism provides resilience against API limitations and ensures your application continues to function even when the primary model is unavailable."
   ]
  },
  {
   "cell_type": "code",
   "execution_count": 7,
   "id": "1681e261",
   "metadata": {},
   "outputs": [
    {
     "name": "stdout",
     "output_type": "stream",
     "text": [
      "Hit error\n"
     ]
    }
   ],
   "source": [
    "# Use OpenAI LLM first to show error.\n",
    "with patch(\"openai.resources.chat.completions.Completions.create\", side_effect=error):\n",
    "    try:\n",
    "        print(openai_llm.invoke(\"Why did the chicken cross the road?\"))\n",
    "    except RateLimitError:\n",
    "        # If error occurs, print error.\n",
    "        print(\"Hit error\")"
   ]
  },
  {
   "cell_type": "code",
   "execution_count": 8,
   "id": "9e196ac4",
   "metadata": {},
   "outputs": [
    {
     "name": "stdout",
     "output_type": "stream",
     "text": [
      "content='The classic answer to the joke \"Why did the chicken cross the road?\" is:\\n\\n\"To get to the other side.\"\\n\\nThis answer is an anti-joke, meaning that the answer is purposely obvious and straightforward, lacking the expected punch line or humor that a joke typically has. The humor, if any, comes from the fact that the answer is so simple and doesn\\'t really provide any meaningful explanation for the chicken\\'s actions.\\n\\nThere are, of course, many variations and alternative answers to this joke, but the one mentioned above remains the most well-known and traditional response.' additional_kwargs={} response_metadata={'id': 'msg_01EnWEZFHrLnPx8DeYWAwKcY', 'model': 'claude-3-opus-20240229', 'stop_reason': 'end_turn', 'stop_sequence': None, 'usage': {'cache_creation_input_tokens': 0, 'cache_read_input_tokens': 0, 'input_tokens': 15, 'output_tokens': 124}} id='run-c83ea304-76f5-4bc3-b33b-4ce1ecaa7220-0' usage_metadata={'input_tokens': 15, 'output_tokens': 124, 'total_tokens': 139, 'input_token_details': {'cache_read': 0, 'cache_creation': 0}}\n"
     ]
    }
   ],
   "source": [
    "# Code to replace with Anthropic if an error occurs when calling the OpenAI API\n",
    "with patch(\"openai.resources.chat.completions.Completions.create\", side_effect=error):\n",
    "    try:\n",
    "        print(llm.invoke(\"Why did the chicken cross the road?\"))\n",
    "    except RateLimitError:\n",
    "        print(\"Hit error\")"
   ]
  },
  {
   "cell_type": "markdown",
   "id": "866996f2",
   "metadata": {},
   "source": [
    "A model set to `llm.with_fallbacks()` will also behave the same as a regular runnable model.\n",
    "\n",
    "The code below also doesn't throw an ‘error’ because the fallbacks model did a good job."
   ]
  },
  {
   "cell_type": "code",
   "execution_count": 9,
   "id": "b5558e96",
   "metadata": {},
   "outputs": [
    {
     "name": "stdout",
     "output_type": "stream",
     "text": [
      "content='The capital of South Korea is Seoul.' additional_kwargs={} response_metadata={'id': 'msg_013Uqu28KjoN25xFPEmP1Uca', 'model': 'claude-3-opus-20240229', 'stop_reason': 'end_turn', 'stop_sequence': None, 'usage': {'cache_creation_input_tokens': 0, 'cache_read_input_tokens': 0, 'input_tokens': 24, 'output_tokens': 11}} id='run-73627f85-a617-4044-9363-be5f451d79b9-0' usage_metadata={'input_tokens': 24, 'output_tokens': 11, 'total_tokens': 35, 'input_token_details': {'cache_read': 0, 'cache_creation': 0}}\n"
     ]
    }
   ],
   "source": [
    "from langchain_core.prompts.chat import ChatPromptTemplate\n",
    "\n",
    "prompt = ChatPromptTemplate(\n",
    "    [\n",
    "        (\n",
    "            \"system\",\n",
    "            \"Please keep your answers short and concise.\",\n",
    "        ),\n",
    "        (\"human\", \"What is the capital of {country}?\"),\n",
    "    ]\n",
    ")\n",
    "\n",
    "good_chain = prompt | llm  # Linking prompts and language models to create chains\n",
    "bad_chain = prompt | ChatOpenAI()  # it will output an ‘Hit error’ statement.\n",
    "\n",
    "with patch(\"openai.resources.chat.completions.Completions.create\", side_effect=error):\n",
    "    try:\n",
    "        print(good_chain.invoke({\"country\": \"South Korea\"}))\n",
    "    except RateLimitError:\n",
    "        print(\"Hit error\")"
   ]
  },
  {
   "cell_type": "markdown",
   "id": "58a91a9b",
   "metadata": {},
   "source": [
    "## If you specify an error that needs to be handled\n",
    "\n",
    "When working with fallbacks, you can precisely define when the `fallback` should be triggered. This allows for more granular control over the fallback mechanism's behavior.\n",
    "\n",
    "For example, you can specify certain exception classes or error codes that will trigger the fallback logic. This approach helps you to **reduce unnecessary fallback calls and improve error handling efficiency.**\n",
    "\n",
    "In the example below, you'll see an \"error occurred\" message printed. This happens because we've configured the `exceptions_to_handle` parameter to only trigger the fallback when a `KeyboardInterrupt` exception occurs. As a result, the `fallback` won't be triggered for any other exceptions.\n"
   ]
  },
  {
   "cell_type": "code",
   "execution_count": 10,
   "id": "d6e33645",
   "metadata": {},
   "outputs": [
    {
     "name": "stdout",
     "output_type": "stream",
     "text": [
      "Hit error\n"
     ]
    }
   ],
   "source": [
    "llm = openai_llm.with_fallbacks(\n",
    "    # Use anthropic_llm as the fallback LLM and specify KeyboardInterrupt as the exception to handle.\n",
    "    [anthropic_llm],\n",
    "    exceptions_to_handle=(KeyboardInterrupt,),  # Specify the exception to handle.\n",
    ")\n",
    "\n",
    "# Linking prompts and LLM to create chains.\n",
    "chain = prompt | llm\n",
    "with patch(\"openai.resources.chat.completions.Completions.create\", side_effect=error):\n",
    "    try:\n",
    "        print(chain.invoke({\"country\": \"South Korea\"}))\n",
    "    except RateLimitError:\n",
    "        # If a RateLimitError occurs, print \"Hit error\".\n",
    "        print(\"Hit error\")"
   ]
  },
  {
   "cell_type": "markdown",
   "id": "f2eafd75",
   "metadata": {},
   "source": [
    "## Specifying multiple models in fallback sequentially\n",
    "\n",
    "You can specify multiple models in the `fallback` model, not just one. When multiple models are specified, they will be tried sequentially.\n"
   ]
  },
  {
   "cell_type": "code",
   "execution_count": 11,
   "id": "0e68510e",
   "metadata": {},
   "outputs": [],
   "source": [
    "from langchain_core.prompts.prompt import PromptTemplate\n",
    "from langchain_openai.chat_models.base import ChatOpenAI\n",
    "\n",
    "# Create a prompt\n",
    "prompt_template = (\n",
    "    \"Please keep your answers short and concise.\\n\\nQuestion:\\n{question}\\n\\nAnswer:\"\n",
    ")\n",
    "prompt = PromptTemplate.from_template(prompt_template)"
   ]
  },
  {
   "cell_type": "markdown",
   "id": "6185c984",
   "metadata": {},
   "source": [
    "Create two chains, one that causes an error and one that works normally.\n"
   ]
  },
  {
   "cell_type": "code",
   "execution_count": 12,
   "id": "e3a2416f",
   "metadata": {},
   "outputs": [],
   "source": [
    "# Here, we'll create a chain using a model name that easily causes an error.\n",
    "chat_model = ChatOpenAI(model_name=\"gpt-fake\")\n",
    "bad_chain = prompt | chat_model"
   ]
  },
  {
   "cell_type": "code",
   "execution_count": 13,
   "id": "2eec12f6",
   "metadata": {},
   "outputs": [],
   "source": [
    "# Create fallback chains.\n",
    "fallback_chain1 = prompt | ChatOpenAI(model=\"gpt-3.6-turbo\")  # error\n",
    "fallback_chain2 = prompt | ChatOpenAI(model=\"gpt-3.5-turbo\")  # normal\n",
    "fallback_chain3 = prompt | ChatOpenAI(model=\"gpt-4-turbo-preview\")  # normal"
   ]
  },
  {
   "cell_type": "code",
   "execution_count": 14,
   "id": "5f7781b4",
   "metadata": {},
   "outputs": [
    {
     "data": {
      "text/plain": [
       "AIMessage(content='Seoul', additional_kwargs={'refusal': None}, response_metadata={'token_usage': {'completion_tokens': 3, 'prompt_tokens': 27, 'total_tokens': 30, 'completion_tokens_details': {'accepted_prediction_tokens': 0, 'audio_tokens': 0, 'reasoning_tokens': 0, 'rejected_prediction_tokens': 0}, 'prompt_tokens_details': {'audio_tokens': 0, 'cached_tokens': 0}}, 'model_name': 'gpt-3.5-turbo-0125', 'system_fingerprint': None, 'finish_reason': 'stop', 'logprobs': None}, id='run-92fc9db1-ad13-4f38-8f2d-d136bf419691-0', usage_metadata={'input_tokens': 27, 'output_tokens': 3, 'total_tokens': 30, 'input_token_details': {'audio': 0, 'cache_read': 0}, 'output_token_details': {'audio': 0, 'reasoning': 0}})"
      ]
     },
     "execution_count": 14,
     "metadata": {},
     "output_type": "execute_result"
    }
   ],
   "source": [
    "# Combine two chains to create a final chain.\n",
    "chain = bad_chain.with_fallbacks([fallback_chain1, fallback_chain2, fallback_chain3])\n",
    "# Call the created chain and pass the input value.\n",
    "chain.invoke({\"question\": \"What is the capital of South Korea?\"})"
   ]
  },
  {
   "cell_type": "markdown",
   "id": "3a6dca1f",
   "metadata": {},
   "source": [
    "## Using Different Prompt Templates for Each Model\n",
    "You can use different prompt templates tailored to each model's characteristics. For example, GPT-4 can handle complex instructions while GPT-3.5 can work with simpler ones."
   ]
  },
  {
   "cell_type": "code",
   "execution_count": 15,
   "id": "db153142",
   "metadata": {},
   "outputs": [],
   "source": [
    "# Set up model-specific prompt templates\n",
    "gpt4_prompt = ChatPromptTemplate(\n",
    "    [\n",
    "        (\n",
    "            \"system\",\n",
    "            \"You are a professional AI assistant. Provide detailed and academic responses.\",\n",
    "        ),\n",
    "        (\"human\", \"{question}\"),\n",
    "    ]\n",
    ")\n",
    "\n",
    "gpt35_prompt = ChatPromptTemplate(\n",
    "    [(\"system\", \"Provide simple and clear responses.\"), (\"human\", \"{question}\")]\n",
    ")\n",
    "\n",
    "# Set up models\n",
    "primary_chain = gpt4_prompt | ChatOpenAI(model=\"gpt-4\", max_retries=1)\n",
    "fallback_chain = gpt35_prompt | ChatOpenAI(model=\"gpt-3.5-turbo\")"
   ]
  },
  {
   "cell_type": "code",
   "execution_count": 16,
   "id": "0ac5814e",
   "metadata": {},
   "outputs": [
    {
     "name": "stdout",
     "output_type": "stream",
     "text": [
      "Question: What is artificial intelligence?\n",
      "\n",
      "GPT-4 Response:\n",
      "content=\"Artificial Intelligence, often abbreviated as AI, is a branch of computer science that aims to create systems capable of performing tasks that normally require human intelligence. These tasks include learning and adapting to new inputs, understanding human language (natural language processing), recognizing patterns (pattern recognition), solving problems (problem-solving), and making decisions.\\n\\nAI can be classified into two types: Narrow AI and General AI. \\n\\n1. Narrow AI, also known as Weak AI, is designed to perform a narrow task, such as voice recognition, recommendation systems, or image recognition. It operates under a limited set of constraints and is focused on a single narrow task. The AI systems we currently have, like virtual assistants (Siri, Alexa), are examples of Narrow AI.\\n\\n2. General AI, also known as Strong AI, is the kind of AI that has the potential to outperform humans at nearly every cognitive task. This type of AI is not only able to perform tasks that a human can do, but it can also understand, learn, adapt, and implement knowledge from different domains. As of now, General AI is a theoretical concept and doesn't exist.\\n\\nAI technologies include machine learning (where a computer is fed a lot of data which it uses to teach itself to perform a task), neural networks (complex systems that mimic the human brain), and natural language processing (enabling AI to understand and respond in human language). AI has wide-ranging uses, from medical diagnosis and autonomous vehicles to customer service and data analysis.\" additional_kwargs={'refusal': None} response_metadata={'token_usage': {'completion_tokens': 301, 'prompt_tokens': 29, 'total_tokens': 330, 'completion_tokens_details': {'accepted_prediction_tokens': 0, 'audio_tokens': 0, 'reasoning_tokens': 0, 'rejected_prediction_tokens': 0}, 'prompt_tokens_details': {'audio_tokens': 0, 'cached_tokens': 0}}, 'model_name': 'gpt-4-0613', 'system_fingerprint': None, 'finish_reason': 'stop', 'logprobs': None} id='run-cf4f126e-d150-4cb6-bda0-0b3b00faf800-0' usage_metadata={'input_tokens': 29, 'output_tokens': 301, 'total_tokens': 330, 'input_token_details': {'audio': 0, 'cache_read': 0}, 'output_token_details': {'audio': 0, 'reasoning': 0}}\n",
      "\n",
      "GPT-3.5 Response:\n",
      "content='Artificial intelligence is the simulation of human intelligence processes by machines, especially computer systems. It involves tasks such as learning, reasoning, problem-solving, perception, and language understanding.' additional_kwargs={'refusal': None} response_metadata={'token_usage': {'completion_tokens': 36, 'prompt_tokens': 22, 'total_tokens': 58, 'completion_tokens_details': {'accepted_prediction_tokens': 0, 'audio_tokens': 0, 'reasoning_tokens': 0, 'rejected_prediction_tokens': 0}, 'prompt_tokens_details': {'audio_tokens': 0, 'cached_tokens': 0}}, 'model_name': 'gpt-3.5-turbo-0125', 'system_fingerprint': None, 'finish_reason': 'stop', 'logprobs': None} id='run-c1713439-5e33-4525-885f-4321771fbfab-0' usage_metadata={'input_tokens': 22, 'output_tokens': 36, 'total_tokens': 58, 'input_token_details': {'audio': 0, 'cache_read': 0}, 'output_token_details': {'audio': 0, 'reasoning': 0}}\n",
      "\n",
      "Fallback Chain Response:\n",
      "content='Artificial intelligence is the simulation of human intelligence processes by machines, especially computer systems.' additional_kwargs={'refusal': None} response_metadata={'token_usage': {'completion_tokens': 18, 'prompt_tokens': 24, 'total_tokens': 42, 'completion_tokens_details': {'accepted_prediction_tokens': 0, 'audio_tokens': 0, 'reasoning_tokens': 0, 'rejected_prediction_tokens': 0}, 'prompt_tokens_details': {'audio_tokens': 0, 'cached_tokens': 0}}, 'model_name': 'gpt-3.5-turbo-0125', 'system_fingerprint': None, 'finish_reason': 'stop', 'logprobs': None} id='run-2a46589c-8c18-4ca4-952d-afe580857d29-0' usage_metadata={'input_tokens': 24, 'output_tokens': 18, 'total_tokens': 42, 'input_token_details': {'audio': 0, 'cache_read': 0}, 'output_token_details': {'audio': 0, 'reasoning': 0}}\n",
      "\n",
      "--------------------------------------------------\n",
      "Question: Explain quantum mechanics in 5 lines.\n",
      "\n",
      "GPT-4 Response:\n",
      "content=\"Quantum mechanics is a fundamental theory in physics that describes nature at the smallest scales of energy levels of atoms and subatomic particles. It introduces the concept of wave-particle duality, meaning particles can exhibit properties of both particles and waves. The principle of superposition stipulates that a physical system exists partially in all its theoretical states simultaneously. Quantum entanglement allows particles to be connected, such that the state of one can instantly affect the state of another, regardless of the distance between them. Lastly, Heisenberg's uncertainty principle posits that the position and velocity of a particle cannot be simultaneously measured with high precision.\" additional_kwargs={'refusal': None} response_metadata={'token_usage': {'completion_tokens': 126, 'prompt_tokens': 33, 'total_tokens': 159, 'completion_tokens_details': {'accepted_prediction_tokens': 0, 'audio_tokens': 0, 'reasoning_tokens': 0, 'rejected_prediction_tokens': 0}, 'prompt_tokens_details': {'audio_tokens': 0, 'cached_tokens': 0}}, 'model_name': 'gpt-4-0613', 'system_fingerprint': None, 'finish_reason': 'stop', 'logprobs': None} id='run-3d644553-7f02-45a0-8ee3-bc83f7509ae5-0' usage_metadata={'input_tokens': 33, 'output_tokens': 126, 'total_tokens': 159, 'input_token_details': {'audio': 0, 'cache_read': 0}, 'output_token_details': {'audio': 0, 'reasoning': 0}}\n",
      "\n",
      "GPT-3.5 Response:\n",
      "content='Quantum mechanics is a branch of physics that deals with the behavior of very small particles, such as atoms and subatomic particles. It describes how these particles can exist in multiple states at the same time, known as superposition. Quantum mechanics also involves the concept of wave-particle duality, where particles can exhibit both wave-like and particle-like behavior. Additionally, quantum mechanics includes the uncertainty principle, which states that we cannot simultaneously know both the exact position and momentum of a particle. Overall, quantum mechanics provides a mathematical framework to understand the behavior of these tiny particles at the quantum level.' additional_kwargs={'refusal': None} response_metadata={'token_usage': {'completion_tokens': 119, 'prompt_tokens': 26, 'total_tokens': 145, 'completion_tokens_details': {'accepted_prediction_tokens': 0, 'audio_tokens': 0, 'reasoning_tokens': 0, 'rejected_prediction_tokens': 0}, 'prompt_tokens_details': {'audio_tokens': 0, 'cached_tokens': 0}}, 'model_name': 'gpt-3.5-turbo-0125', 'system_fingerprint': None, 'finish_reason': 'stop', 'logprobs': None} id='run-0065fb17-6d01-4849-aa8e-7e3eaae0c699-0' usage_metadata={'input_tokens': 26, 'output_tokens': 119, 'total_tokens': 145, 'input_token_details': {'audio': 0, 'cache_read': 0}, 'output_token_details': {'audio': 0, 'reasoning': 0}}\n",
      "\n",
      "Fallback Chain Response:\n",
      "content='Quantum mechanics is a branch of physics that deals with the behavior of very small particles. It describes how particles like electrons and photons can exist in multiple states at the same time. This theory is based on probability and uncertainty, rather than deterministic laws. Quantum mechanics has led to technological advancements like quantum computing and cryptography. It remains a complex and fundamental theory in modern physics.' additional_kwargs={'refusal': None} response_metadata={'token_usage': {'completion_tokens': 75, 'prompt_tokens': 28, 'total_tokens': 103, 'completion_tokens_details': {'accepted_prediction_tokens': 0, 'audio_tokens': 0, 'reasoning_tokens': 0, 'rejected_prediction_tokens': 0}, 'prompt_tokens_details': {'audio_tokens': 0, 'cached_tokens': 0}}, 'model_name': 'gpt-3.5-turbo-0125', 'system_fingerprint': None, 'finish_reason': 'stop', 'logprobs': None} id='run-8abe3419-c72a-4f2b-a958-1c9c40e8ff9c-0' usage_metadata={'input_tokens': 28, 'output_tokens': 75, 'total_tokens': 103, 'input_token_details': {'audio': 0, 'cache_read': 0}, 'output_token_details': {'audio': 0, 'reasoning': 0}}\n",
      "\n",
      "--------------------------------------------------\n"
     ]
    }
   ],
   "source": [
    "# Test function\n",
    "def test_chain(question):\n",
    "    print(f\"Question: {question}\\n\")\n",
    "    try:\n",
    "        # Primary model (GPT-4) response\n",
    "        primary_response = primary_chain.invoke({\"question\": question})\n",
    "        print(\"GPT-4 Response:\")\n",
    "        print(f\"{primary_response}\\n\")\n",
    "    except Exception as e:\n",
    "        print(f\"GPT-4 Error: {e}\\n\")\n",
    "\n",
    "    try:\n",
    "        # Fallback model (GPT-3.5) response\n",
    "        fallback_response = fallback_chain.invoke({\"question\": question})\n",
    "        print(\"GPT-3.5 Response:\")\n",
    "        print(f\"{fallback_response}\\n\")\n",
    "    except Exception as e:\n",
    "        print(f\"GPT-3.5 Error: {e}\\n\")\n",
    "\n",
    "    # Full fallback chain execution\n",
    "    print(\"Fallback Chain Response:\")\n",
    "    final_response = chain.invoke({\"question\": question})\n",
    "    print(f\"{final_response}\\n\")\n",
    "    print(\"-\" * 50)\n",
    "\n",
    "\n",
    "# Test with various questions\n",
    "questions = [\n",
    "    \"What is artificial intelligence?\",\n",
    "    \"Explain quantum mechanics in 5 lines.\",\n",
    "]\n",
    "\n",
    "for question in questions:\n",
    "    test_chain(question)"
   ]
  },
  {
   "cell_type": "markdown",
   "id": "1f2b319b",
   "metadata": {},
   "source": [
    "## Automatic Model Switching Based on Context Length\n",
    "When handling long contexts, you can automatically switch to models with larger context windows if token limits are exceeded."
   ]
  },
  {
   "cell_type": "code",
   "execution_count": 93,
   "id": "53111c46",
   "metadata": {},
   "outputs": [
    {
     "name": "stdout",
     "output_type": "stream",
     "text": [
      "Automatic Model Switching Based on Context Length Test\n",
      "\n",
      "1. Short Text Test\n",
      "\n",
      "=== Short Text Test ===\n",
      "Input text length: 252 characters\n",
      "Standard text detected -> Using GPT-4o model (with fallback)\n",
      "\n",
      "Starting summarization...\n",
      "\n",
      "Summary Result:\n",
      "content='Artificial Intelligence (AI) is central to modern technology, leveraging machine learning and deep learning to address diverse problems. It is applied across various fields, including natural language processing, computer vision, and robotics.' additional_kwargs={'refusal': None} response_metadata={'token_usage': {'completion_tokens': 41, 'prompt_tokens': 65, 'total_tokens': 106, 'completion_tokens_details': {'accepted_prediction_tokens': 0, 'audio_tokens': 0, 'reasoning_tokens': 0, 'rejected_prediction_tokens': 0}, 'prompt_tokens_details': {'audio_tokens': 0, 'cached_tokens': 0}}, 'model_name': 'gpt-4o-2024-08-06', 'system_fingerprint': 'fp_d28bcae782', 'finish_reason': 'stop', 'logprobs': None} id='run-a33441be-a753-40ad-b955-c97f7b9d3474-0' usage_metadata={'input_tokens': 65, 'output_tokens': 41, 'total_tokens': 106, 'input_token_details': {'audio': 0, 'cache_read': 0}, 'output_token_details': {'audio': 0, 'reasoning': 0}}\n",
      "\n",
      "Processing time: 1.01 seconds\n",
      "==================================================\n",
      "\n",
      "2. Long Text Test\n",
      "\n",
      "=== Long Text Test ===\n",
      "Input text length: 24350 characters\n",
      "Long text detected -> Using GPT-3.5-turbo-16k model\n",
      "\n",
      "Starting summarization...\n",
      "\n",
      "Summary Result:\n",
      "content='Artificial intelligence is transforming society in various sectors including healthcare, education, finance, and manufacturing. It is used for disease diagnosis, personalized learning, risk assessment, investment decisions, and production optimization. The development of generative AI has also expanded its application into creative fields such as art, music, and writing.' additional_kwargs={'refusal': None} response_metadata={'token_usage': {'completion_tokens': 63, 'prompt_tokens': 4319, 'total_tokens': 4382, 'completion_tokens_details': {'accepted_prediction_tokens': 0, 'audio_tokens': 0, 'reasoning_tokens': 0, 'rejected_prediction_tokens': 0}, 'prompt_tokens_details': {'audio_tokens': 0, 'cached_tokens': 4224}}, 'model_name': 'gpt-3.5-turbo-16k-0613', 'system_fingerprint': None, 'finish_reason': 'stop', 'logprobs': None} id='run-d9fe27c5-c8a2-4e0d-892a-e2519cde6688-0' usage_metadata={'input_tokens': 4319, 'output_tokens': 63, 'total_tokens': 4382, 'input_token_details': {'audio': 0, 'cache_read': 4224}, 'output_token_details': {'audio': 0, 'reasoning': 0}}\n",
      "\n",
      "Processing time: 1.09 seconds\n",
      "==================================================\n"
     ]
    }
   ],
   "source": [
    "import time\n",
    "\n",
    "# Model setup\n",
    "standard_model = ChatOpenAI(model=\"gpt-4o\", max_tokens=3000, max_retries=1)\n",
    "\n",
    "large_context_model = ChatOpenAI(\n",
    "    model=\"gpt-3.5-turbo-16k\",\n",
    "    max_tokens=10000,\n",
    ")\n",
    "\n",
    "\n",
    "def create_context_aware_chain(text):\n",
    "    text_length = len(text)\n",
    "    print(f\"Input text length: {text_length} characters\")\n",
    "\n",
    "    # Model selection logic\n",
    "    if text_length > 20000:\n",
    "        print(\"Long text detected -> Using GPT-3.5-turbo-16k model\")\n",
    "        current_model = large_context_model\n",
    "    else:\n",
    "        print(\"Standard text detected -> Using GPT-4o model (with fallback)\")\n",
    "        current_model = standard_model.with_fallbacks([large_context_model])\n",
    "\n",
    "    # Prompt template setup\n",
    "    prompt = PromptTemplate.from_template(\n",
    "        \"Please summarize the following text in 3 lines:\\n\\n{text}\\n\\nSummary:\"\n",
    "    )\n",
    "\n",
    "    # Chain composition\n",
    "    chain = prompt | current_model\n",
    "    return chain\n",
    "\n",
    "\n",
    "def test_summarization(text, description):\n",
    "    print(f\"\\n=== {description} Test ===\")\n",
    "\n",
    "    # Create chain\n",
    "    start_time = time.time()\n",
    "    chain = create_context_aware_chain(text)\n",
    "\n",
    "    try:\n",
    "        print(\"\\nStarting summarization...\")\n",
    "        response = chain.invoke({\"text\": text})\n",
    "        print(\"\\nSummary Result:\")\n",
    "        print(response)\n",
    "\n",
    "    except Exception as e:\n",
    "        print(f\"\\nError occurred: {e}\")\n",
    "\n",
    "    end_time = time.time()\n",
    "    print(f\"\\nProcessing time: {end_time - start_time:.2f} seconds\")\n",
    "    print(\"=\" * 50)\n",
    "\n",
    "\n",
    "# Prepare test texts\n",
    "short_text = \"\"\"\n",
    "Artificial Intelligence (AI) is at the core of modern technology. Through machine learning \n",
    "and deep learning, it can solve various problems and is being utilized in multiple fields \n",
    "such as natural language processing, computer vision, and robotics.\n",
    "\"\"\"\n",
    "\n",
    "# Generate long text\n",
    "long_text = (\n",
    "    \"\"\"\n",
    "The advancement of artificial intelligence is significantly transforming our society. \n",
    "In healthcare, it's being used for disease diagnosis and treatment planning. In education, \n",
    "it provides personalized learning experiences. In finance, it supports risk assessment \n",
    "and investment decisions, while in manufacturing, it optimizes production processes. \n",
    "Recently, with the development of generative AI, its application has expanded into \n",
    "creative fields such as art, music, and writing.\n",
    "\"\"\"\n",
    "    * 50\n",
    ")  # Repeat text 100 times to create long context\n",
    "\n",
    "# Run tests\n",
    "print(\"Automatic Model Switching Based on Context Length Test\\n\")\n",
    "print(\"1. Short Text Test\")\n",
    "test_summarization(short_text, \"Short Text\")\n",
    "\n",
    "print(\"\\n2. Long Text Test\")\n",
    "test_summarization(long_text, \"Long Text\")"
   ]
  }
 ],
 "metadata": {
  "kernelspec": {
   "display_name": "py-test",
   "language": "python",
   "name": "python3"
  },
  "language_info": {
   "codemirror_mode": {
    "name": "ipython",
    "version": 3
   },
   "file_extension": ".py",
   "mimetype": "text/x-python",
   "name": "python",
   "nbconvert_exporter": "python",
   "pygments_lexer": "ipython3",
   "version": "3.11.10"
  }
 },
 "nbformat": 4,
 "nbformat_minor": 5
}
